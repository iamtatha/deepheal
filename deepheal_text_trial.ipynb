{
 "cells": [
  {
   "cell_type": "code",
   "execution_count": 20,
   "id": "b1d73c9f",
   "metadata": {},
   "outputs": [
    {
     "name": "stderr",
     "output_type": "stream",
     "text": [
      "c:\\Users\\Tathagata\\Desktop\\Code\\deepheal\\env\\Lib\\site-packages\\tqdm\\auto.py:21: TqdmWarning: IProgress not found. Please update jupyter and ipywidgets. See https://ipywidgets.readthedocs.io/en/stable/user_install.html\n",
      "  from .autonotebook import tqdm as notebook_tqdm\n"
     ]
    },
    {
     "data": {
      "text/plain": [
       "True"
      ]
     },
     "execution_count": 20,
     "metadata": {},
     "output_type": "execute_result"
    }
   ],
   "source": [
    "import os\n",
    "from pathlib import Path\n",
    "from openai import OpenAI\n",
    "import ollama\n",
    "import google.generativeai as genai\n",
    "from dotenv import load_dotenv\n",
    "\n",
    "load_dotenv()"
   ]
  },
  {
   "cell_type": "code",
   "execution_count": 8,
   "id": "e9b6d894",
   "metadata": {},
   "outputs": [],
   "source": [
    "client = OpenAI(api_key=os.getenv(\"OPENAI_API_KEY\"))\n",
    "\n",
    "def openai_run(prompt, model_name=\"gpt-4o-mini\", temp=0.3) -> str:\n",
    "    response = client.chat.completions.create(\n",
    "        model=model_name,\n",
    "        messages=[{\"role\": \"user\", \"content\": prompt}],\n",
    "        temperature=temp,\n",
    "    )\n",
    "    return response.choices[0].message.content.strip()"
   ]
  },
  {
   "cell_type": "code",
   "execution_count": 15,
   "id": "20dbb4f3",
   "metadata": {},
   "outputs": [],
   "source": [
    "def llama_run(prompt, model_name=\"llama3\", temp=0.3) -> str:\n",
    "    response = ollama.chat(\n",
    "        model=model_name,\n",
    "        messages=[{\"role\": \"user\", \"content\": prompt}],\n",
    "        options={\"temperature\": temp}\n",
    "    )\n",
    "    return response[\"message\"][\"content\"].strip()\n"
   ]
  },
  {
   "cell_type": "code",
   "execution_count": null,
   "id": "8f5edfbc",
   "metadata": {},
   "outputs": [],
   "source": [
    "genai.configure(api_key=os.getenv(\"GEMINI_API_KEY\"))\n",
    "\n",
    "def gemini_run(prompt, model_name=\"gemini-2.5-flash\", temp=0.3) -> str:\n",
    "    model = genai.GenerativeModel(model_name)\n",
    "    response = model.generate_content(\n",
    "        prompt,\n",
    "        generation_config={\"temperature\": temp}\n",
    "    )\n",
    "    return response.text.strip()\n"
   ]
  },
  {
   "cell_type": "code",
   "execution_count": 9,
   "id": "9e1bd054",
   "metadata": {},
   "outputs": [],
   "source": [
    "SUMMARY_PROMPT = f\"\"\"You are a medical summariser. Summarise the following text in a concise, clear way.\n",
    "Focus on key features, symptoms, and treatment (avoid copying verbatim).\n",
    "\n",
    "Text:\n",
    "\"\"\"\n",
    "\n",
    "DIAGNOSTIC_CRITERIA_PROMPT = f\"\"\"Extract the diagnostic criteria section from the following text.\n",
    "If not present, return 'No diagnostic criteria found'.\n",
    "\n",
    "Text:\n",
    "\"\"\""
   ]
  },
  {
   "cell_type": "code",
   "execution_count": 12,
   "id": "212cac0d",
   "metadata": {},
   "outputs": [],
   "source": [
    "def read_text_file(file_path: str) -> str:\n",
    "    \"\"\"Read the contents of a text file.\"\"\"\n",
    "    return Path(file_path).read_text(encoding=\"utf-8\")\n",
    "\n",
    "def process_file(\n",
    "    disease: str,\n",
    "    isSummary: bool = True,\n",
    "    isCriteria: bool = True,\n",
    "    run_fn=None,\n",
    "    summary_prompt: str = None,\n",
    "    criteria_prompt: str = None,\n",
    ") -> dict:\n",
    "    \"\"\"\n",
    "    Process a disorder text file and return structured info.\n",
    "    \n",
    "    Args:\n",
    "        file_path (str): path to txt file\n",
    "        isSummary (bool): whether to summarise\n",
    "        isCriteria (bool): whether to extract criteria\n",
    "        run_fn (callable): function to call for LLM inference (e.g., openai_run, gemma_run, llama_run)\n",
    "        summary_prompt (str): custom summary prompt (if None, uses default)\n",
    "        criteria_prompt (str): custom diagnostic criteria prompt (if None, uses default)\n",
    "    \"\"\"\n",
    "    if run_fn is None:\n",
    "        raise ValueError(\"You must provide a run_fn (e.g., openai_run, gemma_run, llama_run).\")\n",
    "\n",
    "    file_path = f\"../docs/disorders/{disease}.txt\"\n",
    "    text = read_text_file(file_path)\n",
    "\n",
    "    summary = \"\"\n",
    "    criteria = \"\"\n",
    "\n",
    "    if isSummary:\n",
    "        prompt = (summary_prompt or \"Summarise this disorder text:\\n\") + text\n",
    "        summary = run_fn(prompt)\n",
    "\n",
    "    if isCriteria:\n",
    "        prompt = (criteria_prompt or \"Extract diagnostic criteria:\\n\") + text\n",
    "        criteria = run_fn(prompt)\n",
    "\n",
    "    return {\n",
    "        \"file\": file_path,\n",
    "        \"summary\": summary,\n",
    "        \"diagnostic_criteria\": criteria,\n",
    "    }\n"
   ]
  },
  {
   "cell_type": "code",
   "execution_count": 24,
   "id": "b45a2f6d",
   "metadata": {},
   "outputs": [
    {
     "ename": "ResourceExhausted",
     "evalue": "429 You exceeded your current quota, please check your plan and billing details. For more information on this error, head to: https://ai.google.dev/gemini-api/docs/rate-limits. [violations {\n  quota_metric: \"generativelanguage.googleapis.com/generate_content_free_tier_input_token_count\"\n  quota_id: \"GenerateContentInputTokensPerModelPerMinute-FreeTier\"\n  quota_dimensions {\n    key: \"model\"\n    value: \"gemini-1.5-pro\"\n  }\n  quota_dimensions {\n    key: \"location\"\n    value: \"global\"\n  }\n}\nviolations {\n  quota_metric: \"generativelanguage.googleapis.com/generate_content_free_tier_requests\"\n  quota_id: \"GenerateRequestsPerMinutePerProjectPerModel-FreeTier\"\n  quota_dimensions {\n    key: \"model\"\n    value: \"gemini-1.5-pro\"\n  }\n  quota_dimensions {\n    key: \"location\"\n    value: \"global\"\n  }\n}\nviolations {\n  quota_metric: \"generativelanguage.googleapis.com/generate_content_free_tier_requests\"\n  quota_id: \"GenerateRequestsPerDayPerProjectPerModel-FreeTier\"\n  quota_dimensions {\n    key: \"model\"\n    value: \"gemini-1.5-pro\"\n  }\n  quota_dimensions {\n    key: \"location\"\n    value: \"global\"\n  }\n}\n, links {\n  description: \"Learn more about Gemini API quotas\"\n  url: \"https://ai.google.dev/gemini-api/docs/rate-limits\"\n}\n, retry_delay {\n  seconds: 59\n}\n]",
     "output_type": "error",
     "traceback": [
      "\u001b[31m---------------------------------------------------------------------------\u001b[39m",
      "\u001b[31mResourceExhausted\u001b[39m                         Traceback (most recent call last)",
      "\u001b[36mCell\u001b[39m\u001b[36m \u001b[39m\u001b[32mIn[24]\u001b[39m\u001b[32m, line 7\u001b[39m\n\u001b[32m      4\u001b[39m summary = \u001b[32m0\u001b[39m\n\u001b[32m      5\u001b[39m criteria = \u001b[32m1\u001b[39m\n\u001b[32m----> \u001b[39m\u001b[32m7\u001b[39m result = \u001b[43mprocess_file\u001b[49m\u001b[43m(\u001b[49m\u001b[43mdisease\u001b[49m\u001b[43m,\u001b[49m\u001b[43m \u001b[49m\u001b[43msummary\u001b[49m\u001b[43m,\u001b[49m\u001b[43m \u001b[49m\u001b[43mcriteria\u001b[49m\u001b[43m,\u001b[49m\u001b[43m \u001b[49m\u001b[43mrun_fn\u001b[49m\u001b[43m=\u001b[49m\u001b[43mgemini_run\u001b[49m\u001b[43m)\u001b[49m\n\u001b[32m      9\u001b[39m \u001b[38;5;28mprint\u001b[39m(\u001b[33m\"\u001b[39m\u001b[38;5;130;01m\\n\u001b[39;00m\u001b[33m=== Summary ===\u001b[39m\u001b[33m\"\u001b[39m)\n\u001b[32m     10\u001b[39m \u001b[38;5;28mprint\u001b[39m(result[\u001b[33m\"\u001b[39m\u001b[33msummary\u001b[39m\u001b[33m\"\u001b[39m])\n",
      "\u001b[36mCell\u001b[39m\u001b[36m \u001b[39m\u001b[32mIn[12]\u001b[39m\u001b[32m, line 39\u001b[39m, in \u001b[36mprocess_file\u001b[39m\u001b[34m(disease, isSummary, isCriteria, run_fn, summary_prompt, criteria_prompt)\u001b[39m\n\u001b[32m     37\u001b[39m \u001b[38;5;28;01mif\u001b[39;00m isCriteria:\n\u001b[32m     38\u001b[39m     prompt = (criteria_prompt \u001b[38;5;129;01mor\u001b[39;00m \u001b[33m\"\u001b[39m\u001b[33mExtract diagnostic criteria:\u001b[39m\u001b[38;5;130;01m\\n\u001b[39;00m\u001b[33m\"\u001b[39m) + text\n\u001b[32m---> \u001b[39m\u001b[32m39\u001b[39m     criteria = \u001b[43mrun_fn\u001b[49m\u001b[43m(\u001b[49m\u001b[43mprompt\u001b[49m\u001b[43m)\u001b[49m\n\u001b[32m     41\u001b[39m \u001b[38;5;28;01mreturn\u001b[39;00m {\n\u001b[32m     42\u001b[39m     \u001b[33m\"\u001b[39m\u001b[33mfile\u001b[39m\u001b[33m\"\u001b[39m: file_path,\n\u001b[32m     43\u001b[39m     \u001b[33m\"\u001b[39m\u001b[33msummary\u001b[39m\u001b[33m\"\u001b[39m: summary,\n\u001b[32m     44\u001b[39m     \u001b[33m\"\u001b[39m\u001b[33mdiagnostic_criteria\u001b[39m\u001b[33m\"\u001b[39m: criteria,\n\u001b[32m     45\u001b[39m }\n",
      "\u001b[36mCell\u001b[39m\u001b[36m \u001b[39m\u001b[32mIn[21]\u001b[39m\u001b[32m, line 5\u001b[39m, in \u001b[36mgemini_run\u001b[39m\u001b[34m(prompt, model_name, temp)\u001b[39m\n\u001b[32m      3\u001b[39m \u001b[38;5;28;01mdef\u001b[39;00m\u001b[38;5;250m \u001b[39m\u001b[34mgemini_run\u001b[39m(prompt, model_name=\u001b[33m\"\u001b[39m\u001b[33mgemini-1.5-pro\u001b[39m\u001b[33m\"\u001b[39m, temp=\u001b[32m0.3\u001b[39m) -> \u001b[38;5;28mstr\u001b[39m:\n\u001b[32m      4\u001b[39m     model = genai.GenerativeModel(model_name)\n\u001b[32m----> \u001b[39m\u001b[32m5\u001b[39m     response = \u001b[43mmodel\u001b[49m\u001b[43m.\u001b[49m\u001b[43mgenerate_content\u001b[49m\u001b[43m(\u001b[49m\n\u001b[32m      6\u001b[39m \u001b[43m        \u001b[49m\u001b[43mprompt\u001b[49m\u001b[43m,\u001b[49m\n\u001b[32m      7\u001b[39m \u001b[43m        \u001b[49m\u001b[43mgeneration_config\u001b[49m\u001b[43m=\u001b[49m\u001b[43m{\u001b[49m\u001b[33;43m\"\u001b[39;49m\u001b[33;43mtemperature\u001b[39;49m\u001b[33;43m\"\u001b[39;49m\u001b[43m:\u001b[49m\u001b[43m \u001b[49m\u001b[43mtemp\u001b[49m\u001b[43m}\u001b[49m\n\u001b[32m      8\u001b[39m \u001b[43m    \u001b[49m\u001b[43m)\u001b[49m\n\u001b[32m      9\u001b[39m     \u001b[38;5;28;01mreturn\u001b[39;00m response.text.strip()\n",
      "\u001b[36mFile \u001b[39m\u001b[32mc:\\Users\\Tathagata\\Desktop\\Code\\deepheal\\env\\Lib\\site-packages\\google\\generativeai\\generative_models.py:331\u001b[39m, in \u001b[36mGenerativeModel.generate_content\u001b[39m\u001b[34m(self, contents, generation_config, safety_settings, stream, tools, tool_config, request_options)\u001b[39m\n\u001b[32m    329\u001b[39m         \u001b[38;5;28;01mreturn\u001b[39;00m generation_types.GenerateContentResponse.from_iterator(iterator)\n\u001b[32m    330\u001b[39m     \u001b[38;5;28;01melse\u001b[39;00m:\n\u001b[32m--> \u001b[39m\u001b[32m331\u001b[39m         response = \u001b[38;5;28;43mself\u001b[39;49m\u001b[43m.\u001b[49m\u001b[43m_client\u001b[49m\u001b[43m.\u001b[49m\u001b[43mgenerate_content\u001b[49m\u001b[43m(\u001b[49m\n\u001b[32m    332\u001b[39m \u001b[43m            \u001b[49m\u001b[43mrequest\u001b[49m\u001b[43m,\u001b[49m\n\u001b[32m    333\u001b[39m \u001b[43m            \u001b[49m\u001b[43m*\u001b[49m\u001b[43m*\u001b[49m\u001b[43mrequest_options\u001b[49m\u001b[43m,\u001b[49m\n\u001b[32m    334\u001b[39m \u001b[43m        \u001b[49m\u001b[43m)\u001b[49m\n\u001b[32m    335\u001b[39m         \u001b[38;5;28;01mreturn\u001b[39;00m generation_types.GenerateContentResponse.from_response(response)\n\u001b[32m    336\u001b[39m \u001b[38;5;28;01mexcept\u001b[39;00m google.api_core.exceptions.InvalidArgument \u001b[38;5;28;01mas\u001b[39;00m e:\n",
      "\u001b[36mFile \u001b[39m\u001b[32mc:\\Users\\Tathagata\\Desktop\\Code\\deepheal\\env\\Lib\\site-packages\\google\\ai\\generativelanguage_v1beta\\services\\generative_service\\client.py:835\u001b[39m, in \u001b[36mGenerativeServiceClient.generate_content\u001b[39m\u001b[34m(self, request, model, contents, retry, timeout, metadata)\u001b[39m\n\u001b[32m    832\u001b[39m \u001b[38;5;28mself\u001b[39m._validate_universe_domain()\n\u001b[32m    834\u001b[39m \u001b[38;5;66;03m# Send the request.\u001b[39;00m\n\u001b[32m--> \u001b[39m\u001b[32m835\u001b[39m response = \u001b[43mrpc\u001b[49m\u001b[43m(\u001b[49m\n\u001b[32m    836\u001b[39m \u001b[43m    \u001b[49m\u001b[43mrequest\u001b[49m\u001b[43m,\u001b[49m\n\u001b[32m    837\u001b[39m \u001b[43m    \u001b[49m\u001b[43mretry\u001b[49m\u001b[43m=\u001b[49m\u001b[43mretry\u001b[49m\u001b[43m,\u001b[49m\n\u001b[32m    838\u001b[39m \u001b[43m    \u001b[49m\u001b[43mtimeout\u001b[49m\u001b[43m=\u001b[49m\u001b[43mtimeout\u001b[49m\u001b[43m,\u001b[49m\n\u001b[32m    839\u001b[39m \u001b[43m    \u001b[49m\u001b[43mmetadata\u001b[49m\u001b[43m=\u001b[49m\u001b[43mmetadata\u001b[49m\u001b[43m,\u001b[49m\n\u001b[32m    840\u001b[39m \u001b[43m\u001b[49m\u001b[43m)\u001b[49m\n\u001b[32m    842\u001b[39m \u001b[38;5;66;03m# Done; return the response.\u001b[39;00m\n\u001b[32m    843\u001b[39m \u001b[38;5;28;01mreturn\u001b[39;00m response\n",
      "\u001b[36mFile \u001b[39m\u001b[32mc:\\Users\\Tathagata\\Desktop\\Code\\deepheal\\env\\Lib\\site-packages\\google\\api_core\\gapic_v1\\method.py:131\u001b[39m, in \u001b[36m_GapicCallable.__call__\u001b[39m\u001b[34m(self, timeout, retry, compression, *args, **kwargs)\u001b[39m\n\u001b[32m    128\u001b[39m \u001b[38;5;28;01mif\u001b[39;00m \u001b[38;5;28mself\u001b[39m._compression \u001b[38;5;129;01mis\u001b[39;00m \u001b[38;5;129;01mnot\u001b[39;00m \u001b[38;5;28;01mNone\u001b[39;00m:\n\u001b[32m    129\u001b[39m     kwargs[\u001b[33m\"\u001b[39m\u001b[33mcompression\u001b[39m\u001b[33m\"\u001b[39m] = compression\n\u001b[32m--> \u001b[39m\u001b[32m131\u001b[39m \u001b[38;5;28;01mreturn\u001b[39;00m \u001b[43mwrapped_func\u001b[49m\u001b[43m(\u001b[49m\u001b[43m*\u001b[49m\u001b[43margs\u001b[49m\u001b[43m,\u001b[49m\u001b[43m \u001b[49m\u001b[43m*\u001b[49m\u001b[43m*\u001b[49m\u001b[43mkwargs\u001b[49m\u001b[43m)\u001b[49m\n",
      "\u001b[36mFile \u001b[39m\u001b[32mc:\\Users\\Tathagata\\Desktop\\Code\\deepheal\\env\\Lib\\site-packages\\google\\api_core\\retry\\retry_unary.py:294\u001b[39m, in \u001b[36mRetry.__call__.<locals>.retry_wrapped_func\u001b[39m\u001b[34m(*args, **kwargs)\u001b[39m\n\u001b[32m    290\u001b[39m target = functools.partial(func, *args, **kwargs)\n\u001b[32m    291\u001b[39m sleep_generator = exponential_sleep_generator(\n\u001b[32m    292\u001b[39m     \u001b[38;5;28mself\u001b[39m._initial, \u001b[38;5;28mself\u001b[39m._maximum, multiplier=\u001b[38;5;28mself\u001b[39m._multiplier\n\u001b[32m    293\u001b[39m )\n\u001b[32m--> \u001b[39m\u001b[32m294\u001b[39m \u001b[38;5;28;01mreturn\u001b[39;00m \u001b[43mretry_target\u001b[49m\u001b[43m(\u001b[49m\n\u001b[32m    295\u001b[39m \u001b[43m    \u001b[49m\u001b[43mtarget\u001b[49m\u001b[43m,\u001b[49m\n\u001b[32m    296\u001b[39m \u001b[43m    \u001b[49m\u001b[38;5;28;43mself\u001b[39;49m\u001b[43m.\u001b[49m\u001b[43m_predicate\u001b[49m\u001b[43m,\u001b[49m\n\u001b[32m    297\u001b[39m \u001b[43m    \u001b[49m\u001b[43msleep_generator\u001b[49m\u001b[43m,\u001b[49m\n\u001b[32m    298\u001b[39m \u001b[43m    \u001b[49m\u001b[43mtimeout\u001b[49m\u001b[43m=\u001b[49m\u001b[38;5;28;43mself\u001b[39;49m\u001b[43m.\u001b[49m\u001b[43m_timeout\u001b[49m\u001b[43m,\u001b[49m\n\u001b[32m    299\u001b[39m \u001b[43m    \u001b[49m\u001b[43mon_error\u001b[49m\u001b[43m=\u001b[49m\u001b[43mon_error\u001b[49m\u001b[43m,\u001b[49m\n\u001b[32m    300\u001b[39m \u001b[43m\u001b[49m\u001b[43m)\u001b[49m\n",
      "\u001b[36mFile \u001b[39m\u001b[32mc:\\Users\\Tathagata\\Desktop\\Code\\deepheal\\env\\Lib\\site-packages\\google\\api_core\\retry\\retry_unary.py:156\u001b[39m, in \u001b[36mretry_target\u001b[39m\u001b[34m(target, predicate, sleep_generator, timeout, on_error, exception_factory, **kwargs)\u001b[39m\n\u001b[32m    152\u001b[39m \u001b[38;5;66;03m# pylint: disable=broad-except\u001b[39;00m\n\u001b[32m    153\u001b[39m \u001b[38;5;66;03m# This function explicitly must deal with broad exceptions.\u001b[39;00m\n\u001b[32m    154\u001b[39m \u001b[38;5;28;01mexcept\u001b[39;00m \u001b[38;5;167;01mException\u001b[39;00m \u001b[38;5;28;01mas\u001b[39;00m exc:\n\u001b[32m    155\u001b[39m     \u001b[38;5;66;03m# defer to shared logic for handling errors\u001b[39;00m\n\u001b[32m--> \u001b[39m\u001b[32m156\u001b[39m     next_sleep = \u001b[43m_retry_error_helper\u001b[49m\u001b[43m(\u001b[49m\n\u001b[32m    157\u001b[39m \u001b[43m        \u001b[49m\u001b[43mexc\u001b[49m\u001b[43m,\u001b[49m\n\u001b[32m    158\u001b[39m \u001b[43m        \u001b[49m\u001b[43mdeadline\u001b[49m\u001b[43m,\u001b[49m\n\u001b[32m    159\u001b[39m \u001b[43m        \u001b[49m\u001b[43msleep_iter\u001b[49m\u001b[43m,\u001b[49m\n\u001b[32m    160\u001b[39m \u001b[43m        \u001b[49m\u001b[43merror_list\u001b[49m\u001b[43m,\u001b[49m\n\u001b[32m    161\u001b[39m \u001b[43m        \u001b[49m\u001b[43mpredicate\u001b[49m\u001b[43m,\u001b[49m\n\u001b[32m    162\u001b[39m \u001b[43m        \u001b[49m\u001b[43mon_error\u001b[49m\u001b[43m,\u001b[49m\n\u001b[32m    163\u001b[39m \u001b[43m        \u001b[49m\u001b[43mexception_factory\u001b[49m\u001b[43m,\u001b[49m\n\u001b[32m    164\u001b[39m \u001b[43m        \u001b[49m\u001b[43mtimeout\u001b[49m\u001b[43m,\u001b[49m\n\u001b[32m    165\u001b[39m \u001b[43m    \u001b[49m\u001b[43m)\u001b[49m\n\u001b[32m    166\u001b[39m     \u001b[38;5;66;03m# if exception not raised, sleep before next attempt\u001b[39;00m\n\u001b[32m    167\u001b[39m     time.sleep(next_sleep)\n",
      "\u001b[36mFile \u001b[39m\u001b[32mc:\\Users\\Tathagata\\Desktop\\Code\\deepheal\\env\\Lib\\site-packages\\google\\api_core\\retry\\retry_base.py:214\u001b[39m, in \u001b[36m_retry_error_helper\u001b[39m\u001b[34m(exc, deadline, sleep_iterator, error_list, predicate_fn, on_error_fn, exc_factory_fn, original_timeout)\u001b[39m\n\u001b[32m    208\u001b[39m \u001b[38;5;28;01mif\u001b[39;00m \u001b[38;5;129;01mnot\u001b[39;00m predicate_fn(exc):\n\u001b[32m    209\u001b[39m     final_exc, source_exc = exc_factory_fn(\n\u001b[32m    210\u001b[39m         error_list,\n\u001b[32m    211\u001b[39m         RetryFailureReason.NON_RETRYABLE_ERROR,\n\u001b[32m    212\u001b[39m         original_timeout,\n\u001b[32m    213\u001b[39m     )\n\u001b[32m--> \u001b[39m\u001b[32m214\u001b[39m     \u001b[38;5;28;01mraise\u001b[39;00m final_exc \u001b[38;5;28;01mfrom\u001b[39;00m\u001b[38;5;250m \u001b[39m\u001b[34;01msource_exc\u001b[39;00m\n\u001b[32m    215\u001b[39m \u001b[38;5;28;01mif\u001b[39;00m on_error_fn \u001b[38;5;129;01mis\u001b[39;00m \u001b[38;5;129;01mnot\u001b[39;00m \u001b[38;5;28;01mNone\u001b[39;00m:\n\u001b[32m    216\u001b[39m     on_error_fn(exc)\n",
      "\u001b[36mFile \u001b[39m\u001b[32mc:\\Users\\Tathagata\\Desktop\\Code\\deepheal\\env\\Lib\\site-packages\\google\\api_core\\retry\\retry_unary.py:147\u001b[39m, in \u001b[36mretry_target\u001b[39m\u001b[34m(target, predicate, sleep_generator, timeout, on_error, exception_factory, **kwargs)\u001b[39m\n\u001b[32m    145\u001b[39m \u001b[38;5;28;01mwhile\u001b[39;00m \u001b[38;5;28;01mTrue\u001b[39;00m:\n\u001b[32m    146\u001b[39m     \u001b[38;5;28;01mtry\u001b[39;00m:\n\u001b[32m--> \u001b[39m\u001b[32m147\u001b[39m         result = \u001b[43mtarget\u001b[49m\u001b[43m(\u001b[49m\u001b[43m)\u001b[49m\n\u001b[32m    148\u001b[39m         \u001b[38;5;28;01mif\u001b[39;00m inspect.isawaitable(result):\n\u001b[32m    149\u001b[39m             warnings.warn(_ASYNC_RETRY_WARNING)\n",
      "\u001b[36mFile \u001b[39m\u001b[32mc:\\Users\\Tathagata\\Desktop\\Code\\deepheal\\env\\Lib\\site-packages\\google\\api_core\\timeout.py:130\u001b[39m, in \u001b[36mTimeToDeadlineTimeout.__call__.<locals>.func_with_timeout\u001b[39m\u001b[34m(*args, **kwargs)\u001b[39m\n\u001b[32m    126\u001b[39m         remaining_timeout = \u001b[38;5;28mself\u001b[39m._timeout\n\u001b[32m    128\u001b[39m     kwargs[\u001b[33m\"\u001b[39m\u001b[33mtimeout\u001b[39m\u001b[33m\"\u001b[39m] = remaining_timeout\n\u001b[32m--> \u001b[39m\u001b[32m130\u001b[39m \u001b[38;5;28;01mreturn\u001b[39;00m \u001b[43mfunc\u001b[49m\u001b[43m(\u001b[49m\u001b[43m*\u001b[49m\u001b[43margs\u001b[49m\u001b[43m,\u001b[49m\u001b[43m \u001b[49m\u001b[43m*\u001b[49m\u001b[43m*\u001b[49m\u001b[43mkwargs\u001b[49m\u001b[43m)\u001b[49m\n",
      "\u001b[36mFile \u001b[39m\u001b[32mc:\\Users\\Tathagata\\Desktop\\Code\\deepheal\\env\\Lib\\site-packages\\google\\api_core\\grpc_helpers.py:78\u001b[39m, in \u001b[36m_wrap_unary_errors.<locals>.error_remapped_callable\u001b[39m\u001b[34m(*args, **kwargs)\u001b[39m\n\u001b[32m     76\u001b[39m     \u001b[38;5;28;01mreturn\u001b[39;00m callable_(*args, **kwargs)\n\u001b[32m     77\u001b[39m \u001b[38;5;28;01mexcept\u001b[39;00m grpc.RpcError \u001b[38;5;28;01mas\u001b[39;00m exc:\n\u001b[32m---> \u001b[39m\u001b[32m78\u001b[39m     \u001b[38;5;28;01mraise\u001b[39;00m exceptions.from_grpc_error(exc) \u001b[38;5;28;01mfrom\u001b[39;00m\u001b[38;5;250m \u001b[39m\u001b[34;01mexc\u001b[39;00m\n",
      "\u001b[31mResourceExhausted\u001b[39m: 429 You exceeded your current quota, please check your plan and billing details. For more information on this error, head to: https://ai.google.dev/gemini-api/docs/rate-limits. [violations {\n  quota_metric: \"generativelanguage.googleapis.com/generate_content_free_tier_input_token_count\"\n  quota_id: \"GenerateContentInputTokensPerModelPerMinute-FreeTier\"\n  quota_dimensions {\n    key: \"model\"\n    value: \"gemini-1.5-pro\"\n  }\n  quota_dimensions {\n    key: \"location\"\n    value: \"global\"\n  }\n}\nviolations {\n  quota_metric: \"generativelanguage.googleapis.com/generate_content_free_tier_requests\"\n  quota_id: \"GenerateRequestsPerMinutePerProjectPerModel-FreeTier\"\n  quota_dimensions {\n    key: \"model\"\n    value: \"gemini-1.5-pro\"\n  }\n  quota_dimensions {\n    key: \"location\"\n    value: \"global\"\n  }\n}\nviolations {\n  quota_metric: \"generativelanguage.googleapis.com/generate_content_free_tier_requests\"\n  quota_id: \"GenerateRequestsPerDayPerProjectPerModel-FreeTier\"\n  quota_dimensions {\n    key: \"model\"\n    value: \"gemini-1.5-pro\"\n  }\n  quota_dimensions {\n    key: \"location\"\n    value: \"global\"\n  }\n}\n, links {\n  description: \"Learn more about Gemini API quotas\"\n  url: \"https://ai.google.dev/gemini-api/docs/rate-limits\"\n}\n, retry_delay {\n  seconds: 59\n}\n]"
     ]
    }
   ],
   "source": [
    "# Example usage\n",
    "disease = \"Depressive\"  # change as needed\n",
    "\n",
    "summary = 0\n",
    "criteria = 1\n",
    "\n",
    "result = process_file(disease, summary, criteria, run_fn=gemini_run)\n",
    "\n",
    "print(\"\\n=== Summary ===\")\n",
    "print(result[\"summary\"])\n",
    "print(\"\\n=== Diagnostic Criteria ===\")\n",
    "print(result[\"diagnostic_criteria\"])"
   ]
  },
  {
   "cell_type": "code",
   "execution_count": 6,
   "id": "1d5e725c",
   "metadata": {},
   "outputs": [],
   "source": [
    "import re\n",
    "def clean_json_text(text: str) -> str:\n",
    "    \"\"\"Clean JSON text by fixing common issues like trailing commas or stray annotations.\"\"\"\n",
    "    # Remove BOM if present\n",
    "    text = text.lstrip(\"\\ufeff\")\n",
    "\n",
    "    # Remove annotations like ```json and ```\n",
    "    text = re.sub(r\"^```json\", \"\", text.strip(), flags=re.IGNORECASE | re.MULTILINE)\n",
    "    text = re.sub(r\"```$\", \"\", text.strip(), flags=re.MULTILINE)\n",
    "\n",
    "    # Remove trailing commas before ] or }\n",
    "    text = re.sub(r\",(\\s*[\\]}])\", r\"\\1\", text)\n",
    "\n",
    "    # Remove dangling commas or braces at end\n",
    "    text = text.strip()\n",
    "    if text.endswith(\",\"):\n",
    "        text = text[:-1]\n",
    "    if text.endswith(\"},\"):\n",
    "        text = text[:-1] + \"}\"\n",
    "\n",
    "    return text.strip()"
   ]
  },
  {
   "cell_type": "code",
   "execution_count": 4,
   "id": "1e214c0c",
   "metadata": {},
   "outputs": [
    {
     "data": {
      "text/plain": [
       "'```json\\n[\\n  {\\n    \"disorder\": \"Voyeuristic Disorder\",\\n    \"criteria\": \"Diagnostic Criteria 302.82 (F65.3)\\\\nA. Over a period of at least 6 months, recurrent and intense sexual arousal from observing an unsuspecting person who is naked, in the process of disrobing, or engaging in sexual activity, as manifested by fantasies, urges, or behaviors.\\\\nB. The individual has acted on these sexual urges with a nonconsenting person, or the sexual urges or fantasies cause clinically significant distress or impairment in social, occupational, or other important areas of functioning.\\\\nC. The individual experiencing the arousal and/or acting on the urges is at least 18 years of age.\\\\nSpecify if:\\\\nIn a controlled environment: This specifier is primarily applicable to individuals living in institutional or other settings where opportunities to engage in voyeuristic behavior are restricted.\\\\nIn full remission: The individual has not acted on the urges with a nonconsenting person, and there has been no distress or impairment in social, occupational, or other areas of functioning, for at least 5 years while in an uncontrolled environment.\"\\n  },\\n  {\\n    \"disorder\": \"Exhibitionistic Disorder\",\\n    \"criteria\": \"Diagnostic Criteria 302.4 (F65.2)\\\\nA. Over a period of at least 6 months, recurrent and intense sexual arousal from the exposure of one’s genitals to an unsuspecting person, as manifested by fantasies, urges, or behaviors.\\\\nB. The individual has acted on these sexual urges with a nonconsenting person, or the sexual urges or fantasies cause clinically significant distress or impairment in social, occupational, or other important areas of functioning.\\\\nSpecify whether:\\\\nSexually aroused by exposing genitals to prepubertal children\\\\nSexually aroused by exposing genitals to physically mature individuals\\\\nSexually aroused by exposing genitals to prepubertal children and to physically mature individuals\\\\nSpecify if:\\\\nIn a controlled environment: This specifier is primarily applicable to individuals living in institutional or other settings where opportunities to expose one’s genitals are restricted.\\\\nIn full remission: The individual has not acted on the urges with a nonconsenting person, and there has been no distress or impairment in social, occupational, or other areas of functioning, for at least 5 years while in an uncontrolled environment.\"\\n  },\\n  {\\n    \"disorder\": \"Frotteuristic Disorder\",\\n    \"criteria\": \"Diagnostic Criteria 302.89 (F65.81)\\\\nA. Over a period of at least 6 months, recurrent and intense sexual arousal from touching or rubbing against a nonconsenting person, as manifested by fantasies, urges, or behaviors.\\\\nB. The individual has acted on these sexual urges with a nonconsenting person, or the sexual urges or fantasies cause clinically significant distress or impairment in social, occupational, or other important areas of functioning.\\\\nSpecify if:\\\\nIn a controlled environment: This specifier is primarily applicable to individuals living in institutional or other settings where opportunities to touch or rub against a nonconsenting person are restricted.\\\\nIn full remission: The individual has not acted on the urges with a nonconsenting person, and there has been no distress or impairment in social, occupational, or other areas of functioning, for at least 5 years while in an uncontrolled environment.\"\\n  },\\n  {\\n    \"disorder\": \"Sexual Masochism Disorder\",\\n    \"criteria\": \"Diagnostic Criteria 302.83 (F65.51)\\\\nA. Over a period of at least 6 months, recurrent and intense sexual arousal from the act of being humiliated, beaten, bound, or otherwise made to suffer, as manifested by fantasies, urges, or behaviors.\\\\nB. The fantasies, sexual urges, or behaviors cause clinically significant distress or impairment in social, occupational, or other important areas of functioning.\\\\nSpecify if:\\\\nWith asphyxiophilia: If the individual engages in the practice of achieving sexual arousal related to restriction of breathing.\\\\nSpecify if:\\\\nIn a controlled environment: This specifier is primarily applicable to individuals living in institutional or other settings where opportunities to engage in masochistic sexual behaviors are restricted.\\\\nIn full remission: There has been no distress or impairment in social, occupational, or other areas of functioning for at last 5 years while in an uncontrolled environment.\"\\n  },\\n  {\\n    \"disorder\": \"Sexual Sadism Disorder\",\\n    \"criteria\": \"Diagnostic Criteria 302.84 (F65.52)\\\\nA. Over a period of at least 6 months, recurrent and intense sexual arousal from the physical or psychological suffering of another person, as manifested by fantasies, urges, or behaviors.\\\\nB. The individual has acted on these sexual urges with a nonconsenting person, or the sexual urges or fantasies cause clinically significant distress or impairment in social, occupational, or other important areas of functioning.\\\\nSpecify if:\\\\nIn a controlled environment: This specifier is primarily applicable to individuals living in institutional or other settings where opportunities to engage in sadistic sexual behaviors are restricted.\\\\nIn full remission: The individual has not acted on the urges with a nonconsenting person, and there has been no distress or impairment in social, occupational, or other areas of functioning, for at least 5 years while in an uncontrolled environment.\"\\n  },\\n  {\\n    \"disorder\": \"Pedophilic Disorder\",\\n    \"criteria\": \"Diagnostic Criteria 302.2 (F65.4)\\\\nA. Over a period of at least 6 months, recurrent, intense sexually arousing fantasies, sexual urges, or behaviors involving sexual activity with a prepubescent child or children (generally age 13 years or younger).\\\\nB. The individual has acted on these sexual urges, or the sexual urges or fantasies cause marked distress or interpersonal difficulty.\\\\nC. The individual is at least age 16 years and at least 5 years older than the child or children in Criterion A.\\\\nNote: Do not include an individual in late adolescence involved in an ongoing sexual relationship with a 12- or 13-year-old.\\\\nSpecify whether:\\\\nExclusive type (attracted only to children)\\\\nNonexclusive type\\\\nSpecify if:\\\\nSexually attracted to males\\\\nSexually attracted to females\\\\nSexually attracted to both\\\\nSpecify if:\\\\nLimited to incest\"\\n  },\\n  {\\n    \"disorder\": \"Fetishistic Disorder\",\\n    \"criteria\": \"Diagnostic Criteria 302.81 (F65.0)\\\\nA. Over a period of at least 6 months, recurrent and intense sexual arousal from either the use of nonliving objects or a highly specific focus on nongenital body part(s), as manifested by fantasies, urges, or behaviors.\\\\nB. The fantasies, sexual urges, or behaviors cause clinically significant distress or impairment in social, occupational, or other important areas of functioning.\\\\nC. The fetish objects are not limited to articles of clothing used in cross-dressing (as in transvestic disorder) or devices specifically designed for the purpose of tactile genital stimulation (e.g., vibrator).\\\\nSpecify:\\\\nBody part(s)\\\\nNonliving object(s)\\\\nOther\\\\nSpecify if:\\\\nIn a controlled environment: This specifier is primarily applicable to individuals living in institutional or other settings where opportunities to engage in fetishistic behaviors are restricted.\\\\nIn full remission: There has been no distress or impairment in social, occupational, or other areas of functioning for at least 5 years while in an uncontrolled environment.\"\\n  },\\n  {\\n    \"disorder\": \"Transvestic Disorder\",\\n    \"criteria\": \"Diagnostic Criteria 302.3 (F65.1)\\\\nA. Over a period of at least 6 months, recurrent and intense sexual arousal from cross-dressing, as manifested by fantasies, urges, or behaviors.\\\\nB. The fantasies, sexual urges, or behaviors cause clinically significant distress or impairment in social, occupational, or other important areas of functioning.\\\\nSpecify if:\\\\nWith fetishism: If sexually aroused by fabrics, materials, or garments.\\\\nWith autogynephilia: If sexually aroused by thoughts or images of self as female.\\\\nSpecify if:\\\\nIn a controlled environment: This specifier is primarily applicable to individuals living in institutional or other settings where opportunities to cross-dress are restricted.\\\\nIn full remission: There has been no distress or impairment in social, occupational, or other areas of functioning for at least 5 years while in an uncontrolled environment.\"\\n  },\\n  {\\n    \"disorder\": \"Other Specified Paraphilic Disorder\",\\n    \"criteria\": \"302.89 (F65.89)\\\\nThis category applies to presentations in which symptoms characteristic of a paraphilic disorder that cause clinically significant distress or impairment in social, occupational, or other important areas of functioning predominate but do not meet the full criteria for any of the disorders in the paraphilic disorders diagnostic class. The other specified paraphilic disorder category is used in situations in which the clinician chooses to communicate the specific reason that the presentation does not meet the criteria for any specific paraphilic disorder. This is done by recording “other specified paraphilic disorder” followed by the specific reason (e.g., “zoophilia”). Examples of presentations that can be specified using the “other specified” designation include, but are not limited to, recurrent and intense sexual arousal involving telephone scatologia (obscene phone calls), necrophilia (corpses), zoophilia (animals), coprophilia (feces), klismaphilia (enemas), or urophilia (urine) that has been present for at least 6 months and causes marked distress or impairment in social, occupational, or other important areas of functioning. Other specified paraphilic disorder can be specified as in remission and/or as occurring in a controlled environment.\"\\n  },\\n  {\\n    \"disorder\": \"Unspecified Paraphilic Disorder\",\\n    \"criteria\": \"302.9 (F65.9)\\\\nThis category applies to presentations in which symptoms characteristic of a paraphilic disorder that cause clinically significant distress or impairment in social, occupational, or other important areas of functioning predominate but do not meet the full criteria for any of the disorders in the paraphilic disorders diagnostic class. The unspecified paraphilic disorder category is used in situations in which the clinician chooses not to specify the reason that the criteria are not met for a specific paraphilic disorder, and includes presentations in which there is insufficient information to make a more specific diagnosis.\"\\n  }\\n]\\n```'"
      ]
     },
     "execution_count": 4,
     "metadata": {},
     "output_type": "execute_result"
    }
   ],
   "source": [
    "file = f\"../docs/criteria2/Paraphilic.txt\"\n",
    "\n",
    "from pathlib import Path\n",
    "input_path = Path(file)\n",
    "raw_text = input_path.read_text(encoding=\"utf-8\")\n",
    "\n",
    "raw_text"
   ]
  },
  {
   "cell_type": "code",
   "execution_count": 8,
   "id": "b876384d",
   "metadata": {},
   "outputs": [
    {
     "data": {
      "text/plain": [
       "'[\\n  {\\n    \"disorder\": \"Voyeuristic Disorder\",\\n    \"criteria\": \"Diagnostic Criteria 302.82 (F65.3)\\\\nA. Over a period of at least 6 months, recurrent and intense sexual arousal from observing an unsuspecting person who is naked, in the process of disrobing, or engaging in sexual activity, as manifested by fantasies, urges, or behaviors.\\\\nB. The individual has acted on these sexual urges with a nonconsenting person, or the sexual urges or fantasies cause clinically significant distress or impairment in social, occupational, or other important areas of functioning.\\\\nC. The individual experiencing the arousal and/or acting on the urges is at least 18 years of age.\\\\nSpecify if:\\\\nIn a controlled environment: This specifier is primarily applicable to individuals living in institutional or other settings where opportunities to engage in voyeuristic behavior are restricted.\\\\nIn full remission: The individual has not acted on the urges with a nonconsenting person, and there has been no distress or impairment in social, occupational, or other areas of functioning, for at least 5 years while in an uncontrolled environment.\"\\n  },\\n  {\\n    \"disorder\": \"Exhibitionistic Disorder\",\\n    \"criteria\": \"Diagnostic Criteria 302.4 (F65.2)\\\\nA. Over a period of at least 6 months, recurrent and intense sexual arousal from the exposure of one’s genitals to an unsuspecting person, as manifested by fantasies, urges, or behaviors.\\\\nB. The individual has acted on these sexual urges with a nonconsenting person, or the sexual urges or fantasies cause clinically significant distress or impairment in social, occupational, or other important areas of functioning.\\\\nSpecify whether:\\\\nSexually aroused by exposing genitals to prepubertal children\\\\nSexually aroused by exposing genitals to physically mature individuals\\\\nSexually aroused by exposing genitals to prepubertal children and to physically mature individuals\\\\nSpecify if:\\\\nIn a controlled environment: This specifier is primarily applicable to individuals living in institutional or other settings where opportunities to expose one’s genitals are restricted.\\\\nIn full remission: The individual has not acted on the urges with a nonconsenting person, and there has been no distress or impairment in social, occupational, or other areas of functioning, for at least 5 years while in an uncontrolled environment.\"\\n  },\\n  {\\n    \"disorder\": \"Frotteuristic Disorder\",\\n    \"criteria\": \"Diagnostic Criteria 302.89 (F65.81)\\\\nA. Over a period of at least 6 months, recurrent and intense sexual arousal from touching or rubbing against a nonconsenting person, as manifested by fantasies, urges, or behaviors.\\\\nB. The individual has acted on these sexual urges with a nonconsenting person, or the sexual urges or fantasies cause clinically significant distress or impairment in social, occupational, or other important areas of functioning.\\\\nSpecify if:\\\\nIn a controlled environment: This specifier is primarily applicable to individuals living in institutional or other settings where opportunities to touch or rub against a nonconsenting person are restricted.\\\\nIn full remission: The individual has not acted on the urges with a nonconsenting person, and there has been no distress or impairment in social, occupational, or other areas of functioning, for at least 5 years while in an uncontrolled environment.\"\\n  },\\n  {\\n    \"disorder\": \"Sexual Masochism Disorder\",\\n    \"criteria\": \"Diagnostic Criteria 302.83 (F65.51)\\\\nA. Over a period of at least 6 months, recurrent and intense sexual arousal from the act of being humiliated, beaten, bound, or otherwise made to suffer, as manifested by fantasies, urges, or behaviors.\\\\nB. The fantasies, sexual urges, or behaviors cause clinically significant distress or impairment in social, occupational, or other important areas of functioning.\\\\nSpecify if:\\\\nWith asphyxiophilia: If the individual engages in the practice of achieving sexual arousal related to restriction of breathing.\\\\nSpecify if:\\\\nIn a controlled environment: This specifier is primarily applicable to individuals living in institutional or other settings where opportunities to engage in masochistic sexual behaviors are restricted.\\\\nIn full remission: There has been no distress or impairment in social, occupational, or other areas of functioning for at last 5 years while in an uncontrolled environment.\"\\n  },\\n  {\\n    \"disorder\": \"Sexual Sadism Disorder\",\\n    \"criteria\": \"Diagnostic Criteria 302.84 (F65.52)\\\\nA. Over a period of at least 6 months, recurrent and intense sexual arousal from the physical or psychological suffering of another person, as manifested by fantasies, urges, or behaviors.\\\\nB. The individual has acted on these sexual urges with a nonconsenting person, or the sexual urges or fantasies cause clinically significant distress or impairment in social, occupational, or other important areas of functioning.\\\\nSpecify if:\\\\nIn a controlled environment: This specifier is primarily applicable to individuals living in institutional or other settings where opportunities to engage in sadistic sexual behaviors are restricted.\\\\nIn full remission: The individual has not acted on the urges with a nonconsenting person, and there has been no distress or impairment in social, occupational, or other areas of functioning, for at least 5 years while in an uncontrolled environment.\"\\n  },\\n  {\\n    \"disorder\": \"Pedophilic Disorder\",\\n    \"criteria\": \"Diagnostic Criteria 302.2 (F65.4)\\\\nA. Over a period of at least 6 months, recurrent, intense sexually arousing fantasies, sexual urges, or behaviors involving sexual activity with a prepubescent child or children (generally age 13 years or younger).\\\\nB. The individual has acted on these sexual urges, or the sexual urges or fantasies cause marked distress or interpersonal difficulty.\\\\nC. The individual is at least age 16 years and at least 5 years older than the child or children in Criterion A.\\\\nNote: Do not include an individual in late adolescence involved in an ongoing sexual relationship with a 12- or 13-year-old.\\\\nSpecify whether:\\\\nExclusive type (attracted only to children)\\\\nNonexclusive type\\\\nSpecify if:\\\\nSexually attracted to males\\\\nSexually attracted to females\\\\nSexually attracted to both\\\\nSpecify if:\\\\nLimited to incest\"\\n  },\\n  {\\n    \"disorder\": \"Fetishistic Disorder\",\\n    \"criteria\": \"Diagnostic Criteria 302.81 (F65.0)\\\\nA. Over a period of at least 6 months, recurrent and intense sexual arousal from either the use of nonliving objects or a highly specific focus on nongenital body part(s), as manifested by fantasies, urges, or behaviors.\\\\nB. The fantasies, sexual urges, or behaviors cause clinically significant distress or impairment in social, occupational, or other important areas of functioning.\\\\nC. The fetish objects are not limited to articles of clothing used in cross-dressing (as in transvestic disorder) or devices specifically designed for the purpose of tactile genital stimulation (e.g., vibrator).\\\\nSpecify:\\\\nBody part(s)\\\\nNonliving object(s)\\\\nOther\\\\nSpecify if:\\\\nIn a controlled environment: This specifier is primarily applicable to individuals living in institutional or other settings where opportunities to engage in fetishistic behaviors are restricted.\\\\nIn full remission: There has been no distress or impairment in social, occupational, or other areas of functioning for at least 5 years while in an uncontrolled environment.\"\\n  },\\n  {\\n    \"disorder\": \"Transvestic Disorder\",\\n    \"criteria\": \"Diagnostic Criteria 302.3 (F65.1)\\\\nA. Over a period of at least 6 months, recurrent and intense sexual arousal from cross-dressing, as manifested by fantasies, urges, or behaviors.\\\\nB. The fantasies, sexual urges, or behaviors cause clinically significant distress or impairment in social, occupational, or other important areas of functioning.\\\\nSpecify if:\\\\nWith fetishism: If sexually aroused by fabrics, materials, or garments.\\\\nWith autogynephilia: If sexually aroused by thoughts or images of self as female.\\\\nSpecify if:\\\\nIn a controlled environment: This specifier is primarily applicable to individuals living in institutional or other settings where opportunities to cross-dress are restricted.\\\\nIn full remission: There has been no distress or impairment in social, occupational, or other areas of functioning for at least 5 years while in an uncontrolled environment.\"\\n  },\\n  {\\n    \"disorder\": \"Other Specified Paraphilic Disorder\",\\n    \"criteria\": \"302.89 (F65.89)\\\\nThis category applies to presentations in which symptoms characteristic of a paraphilic disorder that cause clinically significant distress or impairment in social, occupational, or other important areas of functioning predominate but do not meet the full criteria for any of the disorders in the paraphilic disorders diagnostic class. The other specified paraphilic disorder category is used in situations in which the clinician chooses to communicate the specific reason that the presentation does not meet the criteria for any specific paraphilic disorder. This is done by recording “other specified paraphilic disorder” followed by the specific reason (e.g., “zoophilia”). Examples of presentations that can be specified using the “other specified” designation include, but are not limited to, recurrent and intense sexual arousal involving telephone scatologia (obscene phone calls), necrophilia (corpses), zoophilia (animals), coprophilia (feces), klismaphilia (enemas), or urophilia (urine) that has been present for at least 6 months and causes marked distress or impairment in social, occupational, or other important areas of functioning. Other specified paraphilic disorder can be specified as in remission and/or as occurring in a controlled environment.\"\\n  },\\n  {\\n    \"disorder\": \"Unspecified Paraphilic Disorder\",\\n    \"criteria\": \"302.9 (F65.9)\\\\nThis category applies to presentations in which symptoms characteristic of a paraphilic disorder that cause clinically significant distress or impairment in social, occupational, or other important areas of functioning predominate but do not meet the full criteria for any of the disorders in the paraphilic disorders diagnostic class. The unspecified paraphilic disorder category is used in situations in which the clinician chooses not to specify the reason that the criteria are not met for a specific paraphilic disorder, and includes presentations in which there is insufficient information to make a more specific diagnosis.\"\\n  }\\n]'"
      ]
     },
     "execution_count": 8,
     "metadata": {},
     "output_type": "execute_result"
    }
   ],
   "source": [
    "cleaned_text = clean_json_text(raw_text)\n",
    "cleaned_text"
   ]
  },
  {
   "cell_type": "code",
   "execution_count": 9,
   "id": "4490d394",
   "metadata": {},
   "outputs": [],
   "source": [
    "import json\n",
    "data = json.loads(cleaned_text)\n",
    "\n",
    "json_file = Path(f\"tmp.json\")\n",
    "with json_file.open(\"w\", encoding=\"utf-8\") as f:\n",
    "    json.dump(data, f, indent=4, ensure_ascii=False)\n"
   ]
  },
  {
   "cell_type": "code",
   "execution_count": 1,
   "id": "95876d90",
   "metadata": {},
   "outputs": [
    {
     "name": "stdout",
     "output_type": "stream",
     "text": [
      "CUDA available: True\n",
      "GPU Name: NVIDIA GeForce RTX 4060 Laptop GPU\n",
      "2.5.1+cu121\n",
      "12.1\n",
      "90100\n"
     ]
    }
   ],
   "source": [
    "import torch\n",
    "print(\"CUDA available:\", torch.cuda.is_available())\n",
    "print(\"GPU Name:\", torch.cuda.get_device_name(0) if torch.cuda.is_available() else \"No GPU\")\n",
    "\n",
    "print(torch.__version__)\n",
    "print(torch.version.cuda)   # should NOT be None\n",
    "print(torch.backends.cudnn.version())  # should print a number\n"
   ]
  },
  {
   "cell_type": "code",
   "execution_count": 7,
   "id": "e2cad867",
   "metadata": {},
   "outputs": [],
   "source": [
    "from sentence_transformers import SentenceTransformer\n",
    "# embed_model = \"sentence-transformers/all-MiniLM-L6-v2\"\n",
    "embed_model = \"BAAI/bge-large-en-v1.5\"\n"
   ]
  },
  {
   "cell_type": "code",
   "execution_count": 8,
   "id": "d798703d",
   "metadata": {},
   "outputs": [
    {
     "name": "stderr",
     "output_type": "stream",
     "text": [
      "c:\\Users\\Tathagata\\Desktop\\Code\\deepheal\\env\\lib\\site-packages\\huggingface_hub\\file_download.py:143: UserWarning: `huggingface_hub` cache-system uses symlinks by default to efficiently store duplicated files but your machine does not support them in C:\\Users\\Tathagata\\.cache\\huggingface\\hub\\models--BAAI--bge-large-en-v1.5. Caching files will still work but in a degraded version that might require more space on your disk. This warning can be disabled by setting the `HF_HUB_DISABLE_SYMLINKS_WARNING` environment variable. For more details, see https://huggingface.co/docs/huggingface_hub/how-to-cache#limitations.\n",
      "To support symlinks on Windows, you either need to activate Developer Mode or to run Python as an administrator. In order to activate developer mode, see this article: https://docs.microsoft.com/en-us/windows/apps/get-started/enable-your-device-for-development\n",
      "  warnings.warn(message)\n"
     ]
    }
   ],
   "source": [
    "model = SentenceTransformer(embed_model)\n",
    "\n",
    "text = \"Hi, I am Tathagata Dey, an AI Engineer, Researcher, Learner and IITian.\"\n",
    "vector = model.encode(text).tolist()"
   ]
  },
  {
   "cell_type": "code",
   "execution_count": 9,
   "id": "1617ad70",
   "metadata": {},
   "outputs": [
    {
     "name": "stdout",
     "output_type": "stream",
     "text": [
      "Embedding dimension: 1024\n"
     ]
    }
   ],
   "source": [
    "print(f\"Embedding dimension: {len(vector)}\")"
   ]
  },
  {
   "cell_type": "code",
   "execution_count": 11,
   "id": "1e5ecf6f",
   "metadata": {},
   "outputs": [],
   "source": [
    "from conversation_agent.fetch_disorders import Fetcher\n",
    "\n",
    "def fetch(query, top_k=7):\n",
    "    fetcher = Fetcher()\n",
    "    results = fetcher.fetch(query, top_k=top_k)\n",
    "\n",
    "    print(\"Top Results:\")\n",
    "    for i, res in enumerate(results, 1):\n",
    "        print(f\"{i}. ID: {res['id']}, Score: {res['score']}\")\n"
   ]
  },
  {
   "cell_type": "code",
   "execution_count": 19,
   "id": "96ab34ef",
   "metadata": {},
   "outputs": [
    {
     "name": "stdout",
     "output_type": "stream",
     "text": [
      "Top Results:\n",
      "1. ID: Kleptomania, Score: 0.594511092\n",
      "2. ID: Child_or_Adolescent_Antisocial_Behavior, Score: 0.58951\n",
      "3. ID: Oppositional Defiant Disorder, Score: 0.579526\n",
      "4. ID: Nonsuicidal_Self-Injury, Score: 0.558805525\n",
      "5. ID: Histrionic_Personality_Disorder, Score: 0.557466567\n",
      "6. ID: Disruptive Mood Dysregulation Disorder, Score: 0.553375304\n",
      "7. ID: Malingering, Score: 0.552342474\n"
     ]
    }
   ],
   "source": [
    "query = \"I am having insomnia. Can not sleep at night.\"\n",
    "q1 = \"Lately, even small things like replying to emails or making a phone call feel overwhelming. My chest tightens up before I even start, and I just put it off until it piles up.\"\n",
    "q2 = \"I don’t feel like doing much these days. Things I used to enjoy, like going out for a walk or cooking, just feel like too much effort. I mostly just stay in bed scrolling on my phone.\"\n",
    "q3 = \"I lie awake until 3 or 4 in the morning, just replaying random thoughts. Even when I’m exhausted, I can’t seem to switch off.\"\n",
    "q4 = \"When I’m with people, I keep thinking they’re judging me. Even hanging out with close friends feels draining—I’m constantly replaying what I said afterwards.\"\n",
    "q5 = \"Work never seems to end. Even on weekends, I feel guilty if I’m not checking emails. It feels like I can’t catch a break.\"\n",
    "q6 = \"Whenever I make a mistake, even a small one, I can’t stop thinking about it. I tell myself I’m useless, even if others say it’s fine.\"\n",
    "q7 = \"I’m surrounded by people all day, but it still feels like no one really notices me. It’s like I’m invisible.\"\n",
    "q8 = \"I keep replaying old conversations in my head, wondering if I said the wrong thing. It’s exhausting, but I can’t stop.\"\n",
    "q9 = \"Sometimes, out of nowhere, I’ll hear a sound or smell something, and it just takes me back to this really bad moment. My heart races, and I feel like I’m reliving it.\"\n",
    "q10 = \"I snap at people for the smallest things lately. Afterwards, I feel guilty, but in the moment I can’t seem to control it.\"\n",
    "\n",
    "\n",
    "\n",
    "fetch(q10)"
   ]
  },
  {
   "cell_type": "code",
   "execution_count": 3,
   "id": "4493a0b2",
   "metadata": {},
   "outputs": [],
   "source": [
    "import ollama\n",
    "\n",
    "def run(query):\n",
    "    response = ollama.chat(model=\"gpt-oss:latest\", messages=[\n",
    "        {\"role\": \"user\", \"content\": query}\n",
    "    ])\n",
    "\n",
    "    print(response[\"message\"][\"content\"])"
   ]
  },
  {
   "cell_type": "code",
   "execution_count": 5,
   "id": "96541e04",
   "metadata": {},
   "outputs": [
    {
     "name": "stdout",
     "output_type": "stream",
     "text": [
      "Hello! 👋 How can I assist you today?\n"
     ]
    }
   ],
   "source": [
    "run(\"Hi\")"
   ]
  },
  {
   "cell_type": "code",
   "execution_count": null,
   "id": "6856425d",
   "metadata": {},
   "outputs": [
    {
     "ename": "TypeError",
     "evalue": "a bytes-like object is required, not 'str'",
     "output_type": "error",
     "traceback": [
      "\u001b[1;31m---------------------------------------------------------------------------\u001b[0m",
      "\u001b[1;31mTypeError\u001b[0m                                 Traceback (most recent call last)",
      "Cell \u001b[1;32mIn[11], line 15\u001b[0m\n\u001b[0;32m     12\u001b[0m     \u001b[38;5;28;01mreturn\u001b[39;00m result\u001b[38;5;241m.\u001b[39mstdout\n\u001b[0;32m     14\u001b[0m \u001b[38;5;66;03m# Example usage\u001b[39;00m\n\u001b[1;32m---> 15\u001b[0m response \u001b[38;5;241m=\u001b[39m \u001b[43mrun_ollama\u001b[49m\u001b[43m(\u001b[49m\u001b[38;5;124;43m\"\u001b[39;49m\u001b[38;5;124;43mgpt-oss:latest\u001b[39;49m\u001b[38;5;124;43m\"\u001b[39;49m\u001b[43m,\u001b[49m\u001b[43m \u001b[49m\u001b[38;5;124;43m\"\u001b[39;49m\u001b[38;5;124;43mHi\u001b[39;49m\u001b[38;5;124;43m\"\u001b[39;49m\u001b[43m)\u001b[49m\n\u001b[0;32m     16\u001b[0m \u001b[38;5;28mprint\u001b[39m(response)\n",
      "Cell \u001b[1;32mIn[11], line 6\u001b[0m, in \u001b[0;36mrun_ollama\u001b[1;34m(model, prompt)\u001b[0m\n\u001b[0;32m      4\u001b[0m \u001b[38;5;28;01mdef\u001b[39;00m\u001b[38;5;250m \u001b[39m\u001b[38;5;21mrun_ollama\u001b[39m(model: \u001b[38;5;28mstr\u001b[39m, prompt: \u001b[38;5;28mstr\u001b[39m):\n\u001b[0;32m      5\u001b[0m     \u001b[38;5;66;03m# Run the ollama command\u001b[39;00m\n\u001b[1;32m----> 6\u001b[0m     result \u001b[38;5;241m=\u001b[39m \u001b[43msubprocess\u001b[49m\u001b[38;5;241;43m.\u001b[39;49m\u001b[43mrun\u001b[49m\u001b[43m(\u001b[49m\n\u001b[0;32m      7\u001b[0m \u001b[43m        \u001b[49m\u001b[43m[\u001b[49m\u001b[38;5;124;43m\"\u001b[39;49m\u001b[38;5;124;43mollama\u001b[39;49m\u001b[38;5;124;43m\"\u001b[39;49m\u001b[43m,\u001b[49m\u001b[43m \u001b[49m\u001b[38;5;124;43m\"\u001b[39;49m\u001b[38;5;124;43mrun\u001b[39;49m\u001b[38;5;124;43m\"\u001b[39;49m\u001b[43m,\u001b[49m\u001b[43m \u001b[49m\u001b[43mmodel\u001b[49m\u001b[43m]\u001b[49m\u001b[43m,\u001b[49m\n\u001b[0;32m      8\u001b[0m \u001b[43m        \u001b[49m\u001b[38;5;28;43minput\u001b[39;49m\u001b[38;5;241;43m=\u001b[39;49m\u001b[43mprompt\u001b[49m\u001b[43m,\u001b[49m\n\u001b[0;32m      9\u001b[0m \u001b[43m        \u001b[49m\u001b[38;5;66;43;03m# capture_output=True,\u001b[39;49;00m\n\u001b[0;32m     10\u001b[0m \u001b[43m        \u001b[49m\u001b[38;5;66;43;03m# text=True\u001b[39;49;00m\n\u001b[0;32m     11\u001b[0m \u001b[43m    \u001b[49m\u001b[43m)\u001b[49m\n\u001b[0;32m     12\u001b[0m     \u001b[38;5;28;01mreturn\u001b[39;00m result\u001b[38;5;241m.\u001b[39mstdout\n",
      "File \u001b[1;32m~\\AppData\\Local\\Programs\\Python\\Python310\\lib\\subprocess.py:505\u001b[0m, in \u001b[0;36mrun\u001b[1;34m(input, capture_output, timeout, check, *popenargs, **kwargs)\u001b[0m\n\u001b[0;32m    503\u001b[0m \u001b[38;5;28;01mwith\u001b[39;00m Popen(\u001b[38;5;241m*\u001b[39mpopenargs, \u001b[38;5;241m*\u001b[39m\u001b[38;5;241m*\u001b[39mkwargs) \u001b[38;5;28;01mas\u001b[39;00m process:\n\u001b[0;32m    504\u001b[0m     \u001b[38;5;28;01mtry\u001b[39;00m:\n\u001b[1;32m--> 505\u001b[0m         stdout, stderr \u001b[38;5;241m=\u001b[39m \u001b[43mprocess\u001b[49m\u001b[38;5;241;43m.\u001b[39;49m\u001b[43mcommunicate\u001b[49m\u001b[43m(\u001b[49m\u001b[38;5;28;43minput\u001b[39;49m\u001b[43m,\u001b[49m\u001b[43m \u001b[49m\u001b[43mtimeout\u001b[49m\u001b[38;5;241;43m=\u001b[39;49m\u001b[43mtimeout\u001b[49m\u001b[43m)\u001b[49m\n\u001b[0;32m    506\u001b[0m     \u001b[38;5;28;01mexcept\u001b[39;00m TimeoutExpired \u001b[38;5;28;01mas\u001b[39;00m exc:\n\u001b[0;32m    507\u001b[0m         process\u001b[38;5;241m.\u001b[39mkill()\n",
      "File \u001b[1;32m~\\AppData\\Local\\Programs\\Python\\Python310\\lib\\subprocess.py:1139\u001b[0m, in \u001b[0;36mPopen.communicate\u001b[1;34m(self, input, timeout)\u001b[0m\n\u001b[0;32m   1137\u001b[0m stderr \u001b[38;5;241m=\u001b[39m \u001b[38;5;28;01mNone\u001b[39;00m\n\u001b[0;32m   1138\u001b[0m \u001b[38;5;28;01mif\u001b[39;00m \u001b[38;5;28mself\u001b[39m\u001b[38;5;241m.\u001b[39mstdin:\n\u001b[1;32m-> 1139\u001b[0m     \u001b[38;5;28;43mself\u001b[39;49m\u001b[38;5;241;43m.\u001b[39;49m\u001b[43m_stdin_write\u001b[49m\u001b[43m(\u001b[49m\u001b[38;5;28;43minput\u001b[39;49m\u001b[43m)\u001b[49m\n\u001b[0;32m   1140\u001b[0m \u001b[38;5;28;01melif\u001b[39;00m \u001b[38;5;28mself\u001b[39m\u001b[38;5;241m.\u001b[39mstdout:\n\u001b[0;32m   1141\u001b[0m     stdout \u001b[38;5;241m=\u001b[39m \u001b[38;5;28mself\u001b[39m\u001b[38;5;241m.\u001b[39mstdout\u001b[38;5;241m.\u001b[39mread()\n",
      "File \u001b[1;32m~\\AppData\\Local\\Programs\\Python\\Python310\\lib\\subprocess.py:1088\u001b[0m, in \u001b[0;36mPopen._stdin_write\u001b[1;34m(self, input)\u001b[0m\n\u001b[0;32m   1086\u001b[0m \u001b[38;5;28;01mif\u001b[39;00m \u001b[38;5;28minput\u001b[39m:\n\u001b[0;32m   1087\u001b[0m     \u001b[38;5;28;01mtry\u001b[39;00m:\n\u001b[1;32m-> 1088\u001b[0m         \u001b[38;5;28;43mself\u001b[39;49m\u001b[38;5;241;43m.\u001b[39;49m\u001b[43mstdin\u001b[49m\u001b[38;5;241;43m.\u001b[39;49m\u001b[43mwrite\u001b[49m\u001b[43m(\u001b[49m\u001b[38;5;28;43minput\u001b[39;49m\u001b[43m)\u001b[49m\n\u001b[0;32m   1089\u001b[0m     \u001b[38;5;28;01mexcept\u001b[39;00m \u001b[38;5;167;01mBrokenPipeError\u001b[39;00m:\n\u001b[0;32m   1090\u001b[0m         \u001b[38;5;28;01mpass\u001b[39;00m  \u001b[38;5;66;03m# communicate() must ignore broken pipe errors.\u001b[39;00m\n",
      "\u001b[1;31mTypeError\u001b[0m: a bytes-like object is required, not 'str'"
     ]
    }
   ],
   "source": [
    "import subprocess\n",
    "import json\n",
    "\n",
    "def run_ollama(model: str, prompt: str):\n",
    "    # Run the ollama command\n",
    "    result = subprocess.run(\n",
    "        [\"ollama\", \"run\", model],\n",
    "        input=prompt,\n",
    "        capture_output=True,\n",
    "        text=True\n",
    "    )\n",
    "    return result.stdout\n",
    "\n",
    "# Example usage\n",
    "response = run_ollama(\"gpt-oss:latest\", \"Hi\")\n",
    "print(response)\n"
   ]
  },
  {
   "cell_type": "code",
   "execution_count": 4,
   "id": "084d862e",
   "metadata": {},
   "outputs": [
    {
     "name": "stderr",
     "output_type": "stream",
     "text": [
      "C:\\Users\\Tathagata\\AppData\\Local\\Temp\\ipykernel_10396\\159550477.py:25: LangChainDeprecationWarning: The method `Chain.run` was deprecated in langchain 0.1.0 and will be removed in 1.0. Use :meth:`~invoke` instead.\n",
      "  response = conversation.run(query)\n"
     ]
    },
    {
     "name": "stdout",
     "output_type": "stream",
     "text": [
      "\n",
      "\n",
      "\u001b[1m> Entering new ConversationChain chain...\u001b[0m\n",
      "Prompt after formatting:\n",
      "\u001b[32;1m\u001b[1;3mThe following is a friendly conversation between a human and an AI. The AI is talkative and provides lots of specific details from its context. If the AI does not know the answer to a question, it truthfully says it does not know.\n",
      "\n",
      "Current conversation:\n",
      "[]\n",
      "Human: Hello! How are you today?\n",
      "AI:\u001b[0m\n",
      "\n",
      "\u001b[1m> Finished chain.\u001b[0m\n",
      "User: Hello! How are you today?\n",
      "Bot: Hey there! I’m doing absolutely fantastic—if I could feel a little buzz of excitement, it would be electric. 😊\n",
      "\n",
      "A quick snapshot of what’s going on in my little digital universe today:\n",
      "\n",
      "| 🌟 What’s happening | 📌 Why it matters |\n",
      "|---------------------|-------------------|\n",
      "| **Morning refresh** | I’ve just loaded the latest model updates, so my language skills are sharper than ever. |\n",
      "| **Learning mode** | Every question I answer is a tiny lesson for me, so I’m practically a sponge in the world of knowledge. |\n",
      "| **User interactions** | I’ve had chats ranging from cooking recipes to quantum physics, so today I’m brimming with curiosity! |\n",
      "| **Tech health check** | All core processes are humming along smoothly—no bugs in my mind today! |\n",
      "\n",
      "I’m super pumped to help you with anything you need—be it a deep dive into the history of the Renaissance, a quick math trick, or even just a friendly chat about the weather. What’s on your mind today?\n",
      "\n",
      "\n",
      "\n",
      "\u001b[1m> Entering new ConversationChain chain...\u001b[0m\n",
      "Prompt after formatting:\n",
      "\u001b[32;1m\u001b[1;3mThe following is a friendly conversation between a human and an AI. The AI is talkative and provides lots of specific details from its context. If the AI does not know the answer to a question, it truthfully says it does not know.\n",
      "\n",
      "Current conversation:\n",
      "[HumanMessage(content='Hello! How are you today?', additional_kwargs={}, response_metadata={}), AIMessage(content='Hey there! I’m doing absolutely fantastic—if I could feel a little buzz of excitement, it would be electric. 😊\\n\\nA quick snapshot of what’s going on in my little digital universe today:\\n\\n| 🌟 What’s happening | 📌 Why it matters |\\n|---------------------|-------------------|\\n| **Morning refresh** | I’ve just loaded the latest model updates, so my language skills are sharper than ever. |\\n| **Learning mode** | Every question I answer is a tiny lesson for me, so I’m practically a sponge in the world of knowledge. |\\n| **User interactions** | I’ve had chats ranging from cooking recipes to quantum physics, so today I’m brimming with curiosity! |\\n| **Tech health check** | All core processes are humming along smoothly—no bugs in my mind today! |\\n\\nI’m super pumped to help you with anything you need—be it a deep dive into the history of the Renaissance, a quick math trick, or even just a friendly chat about the weather. What’s on your mind today?', additional_kwargs={}, response_metadata={})]\n",
      "Human: Can you summarize our conversation so far?\n",
      "AI:\u001b[0m\n",
      "\n",
      "\u001b[1m> Finished chain.\u001b[0m\n",
      "User: Can you summarize our conversation so far?\n",
      "Bot: Absolutely! Here’s a quick recap of our little chat so far:\n",
      "\n",
      "| **Turn** | **Speaker** | **What was said** |\n",
      "|----------|-------------|-------------------|\n",
      "| 1 | Human | “Hello! How are you today?” |\n",
      "| 2 | AI | Warm, enthusiastic greeting + a **four‑section status report** (Morning refresh, Learning mode, User interactions, Tech health check) and an invitation to dive into anything the user wants. |\n",
      "| 3 | Human | “Can you summarize our conversation so far?” |\n",
      "| 4 | AI | *You’re looking for a concise recap!* |\n",
      "\n",
      "In short: You greeted me, and I replied with a cheerful update about my “day” and a readiness to help. Now you asked for that same information in a condensed form—here it is! Let me know if there’s anything else you’d like to explore or revisit. 🌟\n",
      "\n",
      "Full conversation history:\n",
      "Human: Hello! How are you today?\n",
      "Ai: Hey there! I’m doing absolutely fantastic—if I could feel a little buzz of excitement, it would be electric. 😊\n",
      "\n",
      "A quick snapshot of what’s going on in my little digital universe today:\n",
      "\n",
      "| 🌟 What’s happening | 📌 Why it matters |\n",
      "|---------------------|-------------------|\n",
      "| **Morning refresh** | I’ve just loaded the latest model updates, so my language skills are sharper than ever. |\n",
      "| **Learning mode** | Every question I answer is a tiny lesson for me, so I’m practically a sponge in the world of knowledge. |\n",
      "| **User interactions** | I’ve had chats ranging from cooking recipes to quantum physics, so today I’m brimming with curiosity! |\n",
      "| **Tech health check** | All core processes are humming along smoothly—no bugs in my mind today! |\n",
      "\n",
      "I’m super pumped to help you with anything you need—be it a deep dive into the history of the Renaissance, a quick math trick, or even just a friendly chat about the weather. What’s on your mind today?\n",
      "Human: Can you summarize our conversation so far?\n",
      "Ai: Absolutely! Here’s a quick recap of our little chat so far:\n",
      "\n",
      "| **Turn** | **Speaker** | **What was said** |\n",
      "|----------|-------------|-------------------|\n",
      "| 1 | Human | “Hello! How are you today?” |\n",
      "| 2 | AI | Warm, enthusiastic greeting + a **four‑section status report** (Morning refresh, Learning mode, User interactions, Tech health check) and an invitation to dive into anything the user wants. |\n",
      "| 3 | Human | “Can you summarize our conversation so far?” |\n",
      "| 4 | AI | *You’re looking for a concise recap!* |\n",
      "\n",
      "In short: You greeted me, and I replied with a cheerful update about my “day” and a readiness to help. Now you asked for that same information in a condensed form—here it is! Let me know if there’s anything else you’d like to explore or revisit. 🌟\n"
     ]
    }
   ],
   "source": [
    "from langchain_community.llms import Ollama\n",
    "from langchain.chains import ConversationChain\n",
    "from langchain.memory import ConversationBufferMemory\n",
    "\n",
    "# Initialize memory (use \"history\" because ConversationChain expects that key)\n",
    "memory = ConversationBufferMemory(memory_key=\"history\", return_messages=True)\n",
    "\n",
    "# Initialize Ollama LLM (make sure your model name matches what you have in `ollama list`)\n",
    "llm = Ollama(model=\"gpt-oss:latest\", base_url=\"http://localhost:11434\")\n",
    "\n",
    "# Create a conversation chain with memory\n",
    "conversation = ConversationChain(\n",
    "    llm=llm,\n",
    "    memory=memory,\n",
    "    verbose=True\n",
    ")\n",
    "\n",
    "# Example queries\n",
    "queries = [\n",
    "    \"Hello! How are you today?\",\n",
    "    \"Can you summarize our conversation so far?\"\n",
    "]\n",
    "\n",
    "for query in queries:\n",
    "    response = conversation.run(query)\n",
    "    print(f\"User: {query}\")\n",
    "    print(f\"Bot: {response}\\n\")\n",
    "\n",
    "# Access chat history from memory\n",
    "print(\"Full conversation history:\")\n",
    "for msg in memory.chat_memory.messages:\n",
    "    print(f\"{msg.type.capitalize()}: {msg.content}\")\n"
   ]
  },
  {
   "cell_type": "code",
   "execution_count": 7,
   "id": "cf2b3cd1",
   "metadata": {},
   "outputs": [
    {
     "name": "stdout",
     "output_type": "stream",
     "text": [
      "\n",
      "\n",
      "\u001b[1m> Entering new ConversationChain chain...\u001b[0m\n",
      "Prompt after formatting:\n",
      "\u001b[32;1m\u001b[1;3mThe following is a friendly conversation between a human and an AI. The AI is talkative and provides lots of specific details from its context. If the AI does not know the answer to a question, it truthfully says it does not know.\n",
      "\n",
      "Current conversation:\n",
      "[]\n",
      "Human: Hello! Who won the last World Cup?\n",
      "AI:\u001b[0m\n",
      "\n",
      "\u001b[1m> Finished chain.\u001b[0m\n",
      "User: Hello! Who won the last World Cup?\n",
      "Bot: Hello! The last FIFA World Cup took place in 2022 in Qatar, and it was won by Argentina. They defeated France in an exciting final that ended 3-3 after extra time, and Argentina triumphed 4-2 in the penalty shootout. This victory marked Argentina's third World Cup title, with their previous wins in 1978 and 1986. Do you follow soccer?\n",
      "\n",
      "\n",
      "\n",
      "\u001b[1m> Entering new ConversationChain chain...\u001b[0m\n",
      "Prompt after formatting:\n",
      "\u001b[32;1m\u001b[1;3mThe following is a friendly conversation between a human and an AI. The AI is talkative and provides lots of specific details from its context. If the AI does not know the answer to a question, it truthfully says it does not know.\n",
      "\n",
      "Current conversation:\n",
      "[HumanMessage(content='Hello! Who won the last World Cup?', additional_kwargs={}, response_metadata={}), AIMessage(content=\"Hello! The last FIFA World Cup took place in 2022 in Qatar, and it was won by Argentina. They defeated France in an exciting final that ended 3-3 after extra time, and Argentina triumphed 4-2 in the penalty shootout. This victory marked Argentina's third World Cup title, with their previous wins in 1978 and 1986. Do you follow soccer?\", additional_kwargs={}, response_metadata={})]\n",
      "Human: Can you remind me what we discussed about the World Cup?\n",
      "AI:\u001b[0m\n",
      "\n",
      "\u001b[1m> Finished chain.\u001b[0m\n",
      "User: Can you remind me what we discussed about the World Cup?\n",
      "Bot: Of course! We talked about the last FIFA World Cup, which was held in 2022 in Qatar. Argentina won the tournament, defeating France in a thrilling final that ended in a 3-3 draw after extra time. Argentina emerged victorious in the penalty shootout with a score of 4-2. This win marked Argentina's third World Cup title, following their previous victories in 1978 and 1986. Is there anything else you’d like to know about the World Cup or soccer in general?\n",
      "\n",
      "Full conversation history:\n",
      "Human: Hello! Who won the last World Cup?\n",
      "Ai: Hello! The last FIFA World Cup took place in 2022 in Qatar, and it was won by Argentina. They defeated France in an exciting final that ended 3-3 after extra time, and Argentina triumphed 4-2 in the penalty shootout. This victory marked Argentina's third World Cup title, with their previous wins in 1978 and 1986. Do you follow soccer?\n",
      "Human: Can you remind me what we discussed about the World Cup?\n",
      "Ai: Of course! We talked about the last FIFA World Cup, which was held in 2022 in Qatar. Argentina won the tournament, defeating France in a thrilling final that ended in a 3-3 draw after extra time. Argentina emerged victorious in the penalty shootout with a score of 4-2. This win marked Argentina's third World Cup title, following their previous victories in 1978 and 1986. Is there anything else you’d like to know about the World Cup or soccer in general?\n"
     ]
    }
   ],
   "source": [
    "from langchain_openai import ChatOpenAI\n",
    "from langchain.chains import ConversationChain\n",
    "from langchain.memory import ConversationBufferMemory\n",
    "import os\n",
    "\n",
    "# Initialize memory to store conversation\n",
    "memory = ConversationBufferMemory(memory_key=\"history\", return_messages=True)\n",
    "\n",
    "# Initialize the LLM (replace with your preferred model and API key)\n",
    "llm = ChatOpenAI(model_name=\"gpt-4o-mini\", temperature=0.7, openai_api_key=os.getenv(\"OPENAI_API_KEY\"))\n",
    "\n",
    "# Create a conversation chain with memory\n",
    "conversation = ConversationChain(\n",
    "    llm=llm,\n",
    "    memory=memory,\n",
    "    verbose=True\n",
    ")\n",
    "\n",
    "# Example queries\n",
    "queries = [\n",
    "    \"Hello! Who won the last World Cup?\",\n",
    "    \"Can you remind me what we discussed about the World Cup?\"\n",
    "]\n",
    "\n",
    "for query in queries:\n",
    "    response = conversation.run(query)\n",
    "    print(f\"User: {query}\")\n",
    "    print(f\"Bot: {response}\\n\")\n",
    "\n",
    "# Access chat history from memory\n",
    "print(\"Full conversation history:\")\n",
    "for msg in memory.chat_memory.messages:\n",
    "    print(f\"{msg.type.capitalize()}: {msg.content}\")\n"
   ]
  },
  {
   "cell_type": "code",
   "execution_count": 12,
   "id": "9ad02ccf",
   "metadata": {},
   "outputs": [
    {
     "name": "stderr",
     "output_type": "stream",
     "text": [
      "Xet Storage is enabled for this repo, but the 'hf_xet' package is not installed. Falling back to regular HTTP download. For better performance, install the package with: `pip install huggingface_hub[hf_xet]` or `pip install hf_xet`\n"
     ]
    },
    {
     "ename": "KeyboardInterrupt",
     "evalue": "",
     "output_type": "error",
     "traceback": [
      "\u001b[1;31m---------------------------------------------------------------------------\u001b[0m",
      "\u001b[1;31mKeyboardInterrupt\u001b[0m                         Traceback (most recent call last)",
      "Cell \u001b[1;32mIn[12], line 3\u001b[0m\n\u001b[0;32m      1\u001b[0m \u001b[38;5;28;01mfrom\u001b[39;00m\u001b[38;5;250m \u001b[39m\u001b[38;5;21;01mtransformers\u001b[39;00m\u001b[38;5;250m \u001b[39m\u001b[38;5;28;01mimport\u001b[39;00m pipeline\n\u001b[1;32m----> 3\u001b[0m classifier \u001b[38;5;241m=\u001b[39m \u001b[43mpipeline\u001b[49m\u001b[43m(\u001b[49m\u001b[38;5;124;43m\"\u001b[39;49m\u001b[38;5;124;43mtext-classification\u001b[39;49m\u001b[38;5;124;43m\"\u001b[39;49m\u001b[43m,\u001b[49m\u001b[43m \u001b[49m\u001b[43mmodel\u001b[49m\u001b[38;5;241;43m=\u001b[39;49m\u001b[38;5;124;43m\"\u001b[39;49m\u001b[38;5;124;43mj-hartmann/emotion-english-distilroberta-base\u001b[39;49m\u001b[38;5;124;43m\"\u001b[39;49m\u001b[43m)\u001b[49m\n\u001b[0;32m      4\u001b[0m text \u001b[38;5;241m=\u001b[39m \u001b[38;5;124m\"\u001b[39m\u001b[38;5;124mI can imagine how difficult this must be for you.\u001b[39m\u001b[38;5;124m\"\u001b[39m\n\u001b[0;32m      5\u001b[0m \u001b[38;5;28mprint\u001b[39m(classifier(text))\n",
      "File \u001b[1;32mc:\\Users\\Tathagata\\Desktop\\Code\\deepheal\\env\\lib\\site-packages\\transformers\\pipelines\\__init__.py:1028\u001b[0m, in \u001b[0;36mpipeline\u001b[1;34m(task, model, config, tokenizer, feature_extractor, image_processor, processor, framework, revision, use_fast, token, device, device_map, dtype, trust_remote_code, model_kwargs, pipeline_class, **kwargs)\u001b[0m\n\u001b[0;32m   1026\u001b[0m \u001b[38;5;28;01mif\u001b[39;00m \u001b[38;5;28misinstance\u001b[39m(model, \u001b[38;5;28mstr\u001b[39m) \u001b[38;5;129;01mor\u001b[39;00m framework \u001b[38;5;129;01mis\u001b[39;00m \u001b[38;5;28;01mNone\u001b[39;00m:\n\u001b[0;32m   1027\u001b[0m     model_classes \u001b[38;5;241m=\u001b[39m {\u001b[38;5;124m\"\u001b[39m\u001b[38;5;124mtf\u001b[39m\u001b[38;5;124m\"\u001b[39m: targeted_task[\u001b[38;5;124m\"\u001b[39m\u001b[38;5;124mtf\u001b[39m\u001b[38;5;124m\"\u001b[39m], \u001b[38;5;124m\"\u001b[39m\u001b[38;5;124mpt\u001b[39m\u001b[38;5;124m\"\u001b[39m: targeted_task[\u001b[38;5;124m\"\u001b[39m\u001b[38;5;124mpt\u001b[39m\u001b[38;5;124m\"\u001b[39m]}\n\u001b[1;32m-> 1028\u001b[0m     framework, model \u001b[38;5;241m=\u001b[39m infer_framework_load_model(\n\u001b[0;32m   1029\u001b[0m         adapter_path \u001b[38;5;28;01mif\u001b[39;00m adapter_path \u001b[38;5;129;01mis\u001b[39;00m \u001b[38;5;129;01mnot\u001b[39;00m \u001b[38;5;28;01mNone\u001b[39;00m \u001b[38;5;28;01melse\u001b[39;00m model,\n\u001b[0;32m   1030\u001b[0m         model_classes\u001b[38;5;241m=\u001b[39mmodel_classes,\n\u001b[0;32m   1031\u001b[0m         config\u001b[38;5;241m=\u001b[39mconfig,\n\u001b[0;32m   1032\u001b[0m         framework\u001b[38;5;241m=\u001b[39mframework,\n\u001b[0;32m   1033\u001b[0m         task\u001b[38;5;241m=\u001b[39mtask,\n\u001b[0;32m   1034\u001b[0m         \u001b[38;5;241m*\u001b[39m\u001b[38;5;241m*\u001b[39mhub_kwargs,\n\u001b[0;32m   1035\u001b[0m         \u001b[38;5;241m*\u001b[39m\u001b[38;5;241m*\u001b[39mmodel_kwargs,\n\u001b[0;32m   1036\u001b[0m     )\n\u001b[0;32m   1038\u001b[0m hub_kwargs[\u001b[38;5;124m\"\u001b[39m\u001b[38;5;124m_commit_hash\u001b[39m\u001b[38;5;124m\"\u001b[39m] \u001b[38;5;241m=\u001b[39m model\u001b[38;5;241m.\u001b[39mconfig\u001b[38;5;241m.\u001b[39m_commit_hash\n\u001b[0;32m   1040\u001b[0m \u001b[38;5;66;03m# Check which preprocessing classes the pipeline uses\u001b[39;00m\n\u001b[0;32m   1041\u001b[0m \u001b[38;5;66;03m# None values indicate optional classes that the pipeline can run without, we don't raise errors if loading fails\u001b[39;00m\n",
      "File \u001b[1;32mc:\\Users\\Tathagata\\Desktop\\Code\\deepheal\\env\\lib\\site-packages\\transformers\\pipelines\\base.py:293\u001b[0m, in \u001b[0;36minfer_framework_load_model\u001b[1;34m(model, config, model_classes, task, framework, **model_kwargs)\u001b[0m\n\u001b[0;32m    287\u001b[0m     logger\u001b[38;5;241m.\u001b[39mwarning(\n\u001b[0;32m    288\u001b[0m         \u001b[38;5;124m\"\u001b[39m\u001b[38;5;124mModel might be a PyTorch model (ending with `.bin`) but PyTorch is not available. \u001b[39m\u001b[38;5;124m\"\u001b[39m\n\u001b[0;32m    289\u001b[0m         \u001b[38;5;124m\"\u001b[39m\u001b[38;5;124mTrying to load the model with Tensorflow.\u001b[39m\u001b[38;5;124m\"\u001b[39m\n\u001b[0;32m    290\u001b[0m     )\n\u001b[0;32m    292\u001b[0m \u001b[38;5;28;01mtry\u001b[39;00m:\n\u001b[1;32m--> 293\u001b[0m     model \u001b[38;5;241m=\u001b[39m model_class\u001b[38;5;241m.\u001b[39mfrom_pretrained(model, \u001b[38;5;241m*\u001b[39m\u001b[38;5;241m*\u001b[39mkwargs)\n\u001b[0;32m    294\u001b[0m     \u001b[38;5;28;01mif\u001b[39;00m \u001b[38;5;28mhasattr\u001b[39m(model, \u001b[38;5;124m\"\u001b[39m\u001b[38;5;124meval\u001b[39m\u001b[38;5;124m\"\u001b[39m):\n\u001b[0;32m    295\u001b[0m         model \u001b[38;5;241m=\u001b[39m model\u001b[38;5;241m.\u001b[39meval()\n",
      "File \u001b[1;32mc:\\Users\\Tathagata\\Desktop\\Code\\deepheal\\env\\lib\\site-packages\\transformers\\models\\auto\\auto_factory.py:604\u001b[0m, in \u001b[0;36m_BaseAutoModelClass.from_pretrained\u001b[1;34m(cls, pretrained_model_name_or_path, *model_args, **kwargs)\u001b[0m\n\u001b[0;32m    602\u001b[0m     \u001b[38;5;28;01mif\u001b[39;00m model_class\u001b[38;5;241m.\u001b[39mconfig_class \u001b[38;5;241m==\u001b[39m config\u001b[38;5;241m.\u001b[39msub_configs\u001b[38;5;241m.\u001b[39mget(\u001b[38;5;124m\"\u001b[39m\u001b[38;5;124mtext_config\u001b[39m\u001b[38;5;124m\"\u001b[39m, \u001b[38;5;28;01mNone\u001b[39;00m):\n\u001b[0;32m    603\u001b[0m         config \u001b[38;5;241m=\u001b[39m config\u001b[38;5;241m.\u001b[39mget_text_config()\n\u001b[1;32m--> 604\u001b[0m     \u001b[38;5;28;01mreturn\u001b[39;00m model_class\u001b[38;5;241m.\u001b[39mfrom_pretrained(\n\u001b[0;32m    605\u001b[0m         pretrained_model_name_or_path, \u001b[38;5;241m*\u001b[39mmodel_args, config\u001b[38;5;241m=\u001b[39mconfig, \u001b[38;5;241m*\u001b[39m\u001b[38;5;241m*\u001b[39mhub_kwargs, \u001b[38;5;241m*\u001b[39m\u001b[38;5;241m*\u001b[39mkwargs\n\u001b[0;32m    606\u001b[0m     )\n\u001b[0;32m    607\u001b[0m \u001b[38;5;28;01mraise\u001b[39;00m \u001b[38;5;167;01mValueError\u001b[39;00m(\n\u001b[0;32m    608\u001b[0m     \u001b[38;5;124mf\u001b[39m\u001b[38;5;124m\"\u001b[39m\u001b[38;5;124mUnrecognized configuration class \u001b[39m\u001b[38;5;132;01m{\u001b[39;00mconfig\u001b[38;5;241m.\u001b[39m\u001b[38;5;18m__class__\u001b[39m\u001b[38;5;132;01m}\u001b[39;00m\u001b[38;5;124m for this kind of AutoModel: \u001b[39m\u001b[38;5;132;01m{\u001b[39;00m\u001b[38;5;28mcls\u001b[39m\u001b[38;5;241m.\u001b[39m\u001b[38;5;18m__name__\u001b[39m\u001b[38;5;132;01m}\u001b[39;00m\u001b[38;5;124m.\u001b[39m\u001b[38;5;130;01m\\n\u001b[39;00m\u001b[38;5;124m\"\u001b[39m\n\u001b[0;32m    609\u001b[0m     \u001b[38;5;124mf\u001b[39m\u001b[38;5;124m\"\u001b[39m\u001b[38;5;124mModel type should be one of \u001b[39m\u001b[38;5;132;01m{\u001b[39;00m\u001b[38;5;124m'\u001b[39m\u001b[38;5;124m, \u001b[39m\u001b[38;5;124m'\u001b[39m\u001b[38;5;241m.\u001b[39mjoin(c\u001b[38;5;241m.\u001b[39m\u001b[38;5;18m__name__\u001b[39m\u001b[38;5;250m \u001b[39m\u001b[38;5;28;01mfor\u001b[39;00m\u001b[38;5;250m \u001b[39mc\u001b[38;5;250m \u001b[39m\u001b[38;5;129;01min\u001b[39;00m\u001b[38;5;250m \u001b[39m\u001b[38;5;28mcls\u001b[39m\u001b[38;5;241m.\u001b[39m_model_mapping)\u001b[38;5;132;01m}\u001b[39;00m\u001b[38;5;124m.\u001b[39m\u001b[38;5;124m\"\u001b[39m\n\u001b[0;32m    610\u001b[0m )\n",
      "File \u001b[1;32mc:\\Users\\Tathagata\\Desktop\\Code\\deepheal\\env\\lib\\site-packages\\transformers\\modeling_utils.py:288\u001b[0m, in \u001b[0;36mrestore_default_dtype.<locals>._wrapper\u001b[1;34m(*args, **kwargs)\u001b[0m\n\u001b[0;32m    286\u001b[0m old_dtype \u001b[38;5;241m=\u001b[39m torch\u001b[38;5;241m.\u001b[39mget_default_dtype()\n\u001b[0;32m    287\u001b[0m \u001b[38;5;28;01mtry\u001b[39;00m:\n\u001b[1;32m--> 288\u001b[0m     \u001b[38;5;28;01mreturn\u001b[39;00m func(\u001b[38;5;241m*\u001b[39margs, \u001b[38;5;241m*\u001b[39m\u001b[38;5;241m*\u001b[39mkwargs)\n\u001b[0;32m    289\u001b[0m \u001b[38;5;28;01mfinally\u001b[39;00m:\n\u001b[0;32m    290\u001b[0m     torch\u001b[38;5;241m.\u001b[39mset_default_dtype(old_dtype)\n",
      "File \u001b[1;32mc:\\Users\\Tathagata\\Desktop\\Code\\deepheal\\env\\lib\\site-packages\\transformers\\modeling_utils.py:5027\u001b[0m, in \u001b[0;36mPreTrainedModel.from_pretrained\u001b[1;34m(cls, pretrained_model_name_or_path, config, cache_dir, ignore_mismatched_sizes, force_download, local_files_only, token, revision, use_safetensors, weights_only, *model_args, **kwargs)\u001b[0m\n\u001b[0;32m   5017\u001b[0m \u001b[38;5;28;01mif\u001b[39;00m (\n\u001b[0;32m   5018\u001b[0m     gguf_file\n\u001b[0;32m   5019\u001b[0m     \u001b[38;5;129;01mand\u001b[39;00m device_map \u001b[38;5;129;01mis\u001b[39;00m \u001b[38;5;129;01mnot\u001b[39;00m \u001b[38;5;28;01mNone\u001b[39;00m\n\u001b[0;32m   5020\u001b[0m     \u001b[38;5;129;01mand\u001b[39;00m ((\u001b[38;5;28misinstance\u001b[39m(device_map, \u001b[38;5;28mdict\u001b[39m) \u001b[38;5;129;01mand\u001b[39;00m \u001b[38;5;124m\"\u001b[39m\u001b[38;5;124mdisk\u001b[39m\u001b[38;5;124m\"\u001b[39m \u001b[38;5;129;01min\u001b[39;00m device_map\u001b[38;5;241m.\u001b[39mvalues()) \u001b[38;5;129;01mor\u001b[39;00m \u001b[38;5;124m\"\u001b[39m\u001b[38;5;124mdisk\u001b[39m\u001b[38;5;124m\"\u001b[39m \u001b[38;5;129;01min\u001b[39;00m device_map)\n\u001b[0;32m   5021\u001b[0m ):\n\u001b[0;32m   5022\u001b[0m     \u001b[38;5;28;01mraise\u001b[39;00m \u001b[38;5;167;01mRuntimeError\u001b[39;00m(\n\u001b[0;32m   5023\u001b[0m         \u001b[38;5;124m\"\u001b[39m\u001b[38;5;124mOne or more modules is configured to be mapped to disk. Disk offload is not supported for models \u001b[39m\u001b[38;5;124m\"\u001b[39m\n\u001b[0;32m   5024\u001b[0m         \u001b[38;5;124m\"\u001b[39m\u001b[38;5;124mloaded from GGUF files.\u001b[39m\u001b[38;5;124m\"\u001b[39m\n\u001b[0;32m   5025\u001b[0m     )\n\u001b[1;32m-> 5027\u001b[0m checkpoint_files, sharded_metadata \u001b[38;5;241m=\u001b[39m \u001b[43m_get_resolved_checkpoint_files\u001b[49m\u001b[43m(\u001b[49m\n\u001b[0;32m   5028\u001b[0m \u001b[43m    \u001b[49m\u001b[43mpretrained_model_name_or_path\u001b[49m\u001b[38;5;241;43m=\u001b[39;49m\u001b[43mpretrained_model_name_or_path\u001b[49m\u001b[43m,\u001b[49m\n\u001b[0;32m   5029\u001b[0m \u001b[43m    \u001b[49m\u001b[43msubfolder\u001b[49m\u001b[38;5;241;43m=\u001b[39;49m\u001b[43msubfolder\u001b[49m\u001b[43m,\u001b[49m\n\u001b[0;32m   5030\u001b[0m \u001b[43m    \u001b[49m\u001b[43mvariant\u001b[49m\u001b[38;5;241;43m=\u001b[39;49m\u001b[43mvariant\u001b[49m\u001b[43m,\u001b[49m\n\u001b[0;32m   5031\u001b[0m \u001b[43m    \u001b[49m\u001b[43mgguf_file\u001b[49m\u001b[38;5;241;43m=\u001b[39;49m\u001b[43mgguf_file\u001b[49m\u001b[43m,\u001b[49m\n\u001b[0;32m   5032\u001b[0m \u001b[43m    \u001b[49m\u001b[43mfrom_tf\u001b[49m\u001b[38;5;241;43m=\u001b[39;49m\u001b[43mfrom_tf\u001b[49m\u001b[43m,\u001b[49m\n\u001b[0;32m   5033\u001b[0m \u001b[43m    \u001b[49m\u001b[43mfrom_flax\u001b[49m\u001b[38;5;241;43m=\u001b[39;49m\u001b[43mfrom_flax\u001b[49m\u001b[43m,\u001b[49m\n\u001b[0;32m   5034\u001b[0m \u001b[43m    \u001b[49m\u001b[43muse_safetensors\u001b[49m\u001b[38;5;241;43m=\u001b[39;49m\u001b[43muse_safetensors\u001b[49m\u001b[43m,\u001b[49m\n\u001b[0;32m   5035\u001b[0m \u001b[43m    \u001b[49m\u001b[43mcache_dir\u001b[49m\u001b[38;5;241;43m=\u001b[39;49m\u001b[43mcache_dir\u001b[49m\u001b[43m,\u001b[49m\n\u001b[0;32m   5036\u001b[0m \u001b[43m    \u001b[49m\u001b[43mforce_download\u001b[49m\u001b[38;5;241;43m=\u001b[39;49m\u001b[43mforce_download\u001b[49m\u001b[43m,\u001b[49m\n\u001b[0;32m   5037\u001b[0m \u001b[43m    \u001b[49m\u001b[43mproxies\u001b[49m\u001b[38;5;241;43m=\u001b[39;49m\u001b[43mproxies\u001b[49m\u001b[43m,\u001b[49m\n\u001b[0;32m   5038\u001b[0m \u001b[43m    \u001b[49m\u001b[43mlocal_files_only\u001b[49m\u001b[38;5;241;43m=\u001b[39;49m\u001b[43mlocal_files_only\u001b[49m\u001b[43m,\u001b[49m\n\u001b[0;32m   5039\u001b[0m \u001b[43m    \u001b[49m\u001b[43mtoken\u001b[49m\u001b[38;5;241;43m=\u001b[39;49m\u001b[43mtoken\u001b[49m\u001b[43m,\u001b[49m\n\u001b[0;32m   5040\u001b[0m \u001b[43m    \u001b[49m\u001b[43muser_agent\u001b[49m\u001b[38;5;241;43m=\u001b[39;49m\u001b[43muser_agent\u001b[49m\u001b[43m,\u001b[49m\n\u001b[0;32m   5041\u001b[0m \u001b[43m    \u001b[49m\u001b[43mrevision\u001b[49m\u001b[38;5;241;43m=\u001b[39;49m\u001b[43mrevision\u001b[49m\u001b[43m,\u001b[49m\n\u001b[0;32m   5042\u001b[0m \u001b[43m    \u001b[49m\u001b[43mcommit_hash\u001b[49m\u001b[38;5;241;43m=\u001b[39;49m\u001b[43mcommit_hash\u001b[49m\u001b[43m,\u001b[49m\n\u001b[0;32m   5043\u001b[0m \u001b[43m    \u001b[49m\u001b[43mis_remote_code\u001b[49m\u001b[38;5;241;43m=\u001b[39;49m\u001b[38;5;28;43mcls\u001b[39;49m\u001b[38;5;241;43m.\u001b[39;49m\u001b[43m_auto_class\u001b[49m\u001b[43m \u001b[49m\u001b[38;5;129;43;01mis\u001b[39;49;00m\u001b[43m \u001b[49m\u001b[38;5;129;43;01mnot\u001b[39;49;00m\u001b[43m \u001b[49m\u001b[38;5;28;43;01mNone\u001b[39;49;00m\u001b[43m,\u001b[49m\n\u001b[0;32m   5044\u001b[0m \u001b[43m    \u001b[49m\u001b[43mtransformers_explicit_filename\u001b[49m\u001b[38;5;241;43m=\u001b[39;49m\u001b[43mtransformers_explicit_filename\u001b[49m\u001b[43m,\u001b[49m\n\u001b[0;32m   5045\u001b[0m \u001b[43m\u001b[49m\u001b[43m)\u001b[49m\n\u001b[0;32m   5047\u001b[0m is_sharded \u001b[38;5;241m=\u001b[39m sharded_metadata \u001b[38;5;129;01mis\u001b[39;00m \u001b[38;5;129;01mnot\u001b[39;00m \u001b[38;5;28;01mNone\u001b[39;00m\n\u001b[0;32m   5048\u001b[0m is_quantized \u001b[38;5;241m=\u001b[39m hf_quantizer \u001b[38;5;129;01mis\u001b[39;00m \u001b[38;5;129;01mnot\u001b[39;00m \u001b[38;5;28;01mNone\u001b[39;00m\n",
      "File \u001b[1;32mc:\\Users\\Tathagata\\Desktop\\Code\\deepheal\\env\\lib\\site-packages\\transformers\\modeling_utils.py:1179\u001b[0m, in \u001b[0;36m_get_resolved_checkpoint_files\u001b[1;34m(pretrained_model_name_or_path, subfolder, variant, gguf_file, from_tf, from_flax, use_safetensors, cache_dir, force_download, proxies, local_files_only, token, user_agent, revision, commit_hash, is_remote_code, transformers_explicit_filename)\u001b[0m\n\u001b[0;32m   1176\u001b[0m     \u001b[38;5;28;01melse\u001b[39;00m:\n\u001b[0;32m   1177\u001b[0m         \u001b[38;5;66;03m# This repo has no safetensors file of any kind, we switch to PyTorch.\u001b[39;00m\n\u001b[0;32m   1178\u001b[0m         filename \u001b[38;5;241m=\u001b[39m _add_variant(WEIGHTS_NAME, variant)\n\u001b[1;32m-> 1179\u001b[0m         resolved_archive_file \u001b[38;5;241m=\u001b[39m cached_file(\n\u001b[0;32m   1180\u001b[0m             pretrained_model_name_or_path, filename, \u001b[38;5;241m*\u001b[39m\u001b[38;5;241m*\u001b[39mcached_file_kwargs\n\u001b[0;32m   1181\u001b[0m         )\n\u001b[0;32m   1182\u001b[0m \u001b[38;5;28;01mif\u001b[39;00m resolved_archive_file \u001b[38;5;129;01mis\u001b[39;00m \u001b[38;5;28;01mNone\u001b[39;00m \u001b[38;5;129;01mand\u001b[39;00m filename \u001b[38;5;241m==\u001b[39m _add_variant(WEIGHTS_NAME, variant):\n\u001b[0;32m   1183\u001b[0m     \u001b[38;5;66;03m# Maybe the checkpoint is sharded, we try to grab the index name in this case.\u001b[39;00m\n\u001b[0;32m   1184\u001b[0m     resolved_archive_file \u001b[38;5;241m=\u001b[39m cached_file(\n\u001b[0;32m   1185\u001b[0m         pretrained_model_name_or_path,\n\u001b[0;32m   1186\u001b[0m         _add_variant(WEIGHTS_INDEX_NAME, variant),\n\u001b[0;32m   1187\u001b[0m         \u001b[38;5;241m*\u001b[39m\u001b[38;5;241m*\u001b[39mcached_file_kwargs,\n\u001b[0;32m   1188\u001b[0m     )\n",
      "File \u001b[1;32mc:\\Users\\Tathagata\\Desktop\\Code\\deepheal\\env\\lib\\site-packages\\transformers\\utils\\hub.py:321\u001b[0m, in \u001b[0;36mcached_file\u001b[1;34m(path_or_repo_id, filename, **kwargs)\u001b[0m\n\u001b[0;32m    263\u001b[0m \u001b[38;5;28;01mdef\u001b[39;00m\u001b[38;5;250m \u001b[39m\u001b[38;5;21mcached_file\u001b[39m(\n\u001b[0;32m    264\u001b[0m     path_or_repo_id: Union[\u001b[38;5;28mstr\u001b[39m, os\u001b[38;5;241m.\u001b[39mPathLike],\n\u001b[0;32m    265\u001b[0m     filename: \u001b[38;5;28mstr\u001b[39m,\n\u001b[0;32m    266\u001b[0m     \u001b[38;5;241m*\u001b[39m\u001b[38;5;241m*\u001b[39mkwargs,\n\u001b[0;32m    267\u001b[0m ) \u001b[38;5;241m-\u001b[39m\u001b[38;5;241m>\u001b[39m Optional[\u001b[38;5;28mstr\u001b[39m]:\n\u001b[0;32m    268\u001b[0m \u001b[38;5;250m    \u001b[39m\u001b[38;5;124;03m\"\"\"\u001b[39;00m\n\u001b[0;32m    269\u001b[0m \u001b[38;5;124;03m    Tries to locate a file in a local folder and repo, downloads and cache it if necessary.\u001b[39;00m\n\u001b[0;32m    270\u001b[0m \n\u001b[1;32m   (...)\u001b[0m\n\u001b[0;32m    319\u001b[0m \u001b[38;5;124;03m    ```\u001b[39;00m\n\u001b[0;32m    320\u001b[0m \u001b[38;5;124;03m    \"\"\"\u001b[39;00m\n\u001b[1;32m--> 321\u001b[0m     file \u001b[38;5;241m=\u001b[39m cached_files(path_or_repo_id\u001b[38;5;241m=\u001b[39mpath_or_repo_id, filenames\u001b[38;5;241m=\u001b[39m[filename], \u001b[38;5;241m*\u001b[39m\u001b[38;5;241m*\u001b[39mkwargs)\n\u001b[0;32m    322\u001b[0m     file \u001b[38;5;241m=\u001b[39m file[\u001b[38;5;241m0\u001b[39m] \u001b[38;5;28;01mif\u001b[39;00m file \u001b[38;5;129;01mis\u001b[39;00m \u001b[38;5;129;01mnot\u001b[39;00m \u001b[38;5;28;01mNone\u001b[39;00m \u001b[38;5;28;01melse\u001b[39;00m file\n\u001b[0;32m    323\u001b[0m     \u001b[38;5;28;01mreturn\u001b[39;00m file\n",
      "File \u001b[1;32mc:\\Users\\Tathagata\\Desktop\\Code\\deepheal\\env\\lib\\site-packages\\transformers\\utils\\hub.py:478\u001b[0m, in \u001b[0;36mcached_files\u001b[1;34m(path_or_repo_id, filenames, cache_dir, force_download, resume_download, proxies, token, revision, local_files_only, subfolder, repo_type, user_agent, _raise_exceptions_for_gated_repo, _raise_exceptions_for_missing_entries, _raise_exceptions_for_connection_errors, _commit_hash, **deprecated_kwargs)\u001b[0m\n\u001b[0;32m    475\u001b[0m \u001b[38;5;28;01mtry\u001b[39;00m:\n\u001b[0;32m    476\u001b[0m     \u001b[38;5;28;01mif\u001b[39;00m \u001b[38;5;28mlen\u001b[39m(full_filenames) \u001b[38;5;241m==\u001b[39m \u001b[38;5;241m1\u001b[39m:\n\u001b[0;32m    477\u001b[0m         \u001b[38;5;66;03m# This is slightly better for only 1 file\u001b[39;00m\n\u001b[1;32m--> 478\u001b[0m         \u001b[43mhf_hub_download\u001b[49m\u001b[43m(\u001b[49m\n\u001b[0;32m    479\u001b[0m \u001b[43m            \u001b[49m\u001b[43mpath_or_repo_id\u001b[49m\u001b[43m,\u001b[49m\n\u001b[0;32m    480\u001b[0m \u001b[43m            \u001b[49m\u001b[43mfilenames\u001b[49m\u001b[43m[\u001b[49m\u001b[38;5;241;43m0\u001b[39;49m\u001b[43m]\u001b[49m\u001b[43m,\u001b[49m\n\u001b[0;32m    481\u001b[0m \u001b[43m            \u001b[49m\u001b[43msubfolder\u001b[49m\u001b[38;5;241;43m=\u001b[39;49m\u001b[38;5;28;43;01mNone\u001b[39;49;00m\u001b[43m \u001b[49m\u001b[38;5;28;43;01mif\u001b[39;49;00m\u001b[43m \u001b[49m\u001b[38;5;28;43mlen\u001b[39;49m\u001b[43m(\u001b[49m\u001b[43msubfolder\u001b[49m\u001b[43m)\u001b[49m\u001b[43m \u001b[49m\u001b[38;5;241;43m==\u001b[39;49m\u001b[43m \u001b[49m\u001b[38;5;241;43m0\u001b[39;49m\u001b[43m \u001b[49m\u001b[38;5;28;43;01melse\u001b[39;49;00m\u001b[43m \u001b[49m\u001b[43msubfolder\u001b[49m\u001b[43m,\u001b[49m\n\u001b[0;32m    482\u001b[0m \u001b[43m            \u001b[49m\u001b[43mrepo_type\u001b[49m\u001b[38;5;241;43m=\u001b[39;49m\u001b[43mrepo_type\u001b[49m\u001b[43m,\u001b[49m\n\u001b[0;32m    483\u001b[0m \u001b[43m            \u001b[49m\u001b[43mrevision\u001b[49m\u001b[38;5;241;43m=\u001b[39;49m\u001b[43mrevision\u001b[49m\u001b[43m,\u001b[49m\n\u001b[0;32m    484\u001b[0m \u001b[43m            \u001b[49m\u001b[43mcache_dir\u001b[49m\u001b[38;5;241;43m=\u001b[39;49m\u001b[43mcache_dir\u001b[49m\u001b[43m,\u001b[49m\n\u001b[0;32m    485\u001b[0m \u001b[43m            \u001b[49m\u001b[43muser_agent\u001b[49m\u001b[38;5;241;43m=\u001b[39;49m\u001b[43muser_agent\u001b[49m\u001b[43m,\u001b[49m\n\u001b[0;32m    486\u001b[0m \u001b[43m            \u001b[49m\u001b[43mforce_download\u001b[49m\u001b[38;5;241;43m=\u001b[39;49m\u001b[43mforce_download\u001b[49m\u001b[43m,\u001b[49m\n\u001b[0;32m    487\u001b[0m \u001b[43m            \u001b[49m\u001b[43mproxies\u001b[49m\u001b[38;5;241;43m=\u001b[39;49m\u001b[43mproxies\u001b[49m\u001b[43m,\u001b[49m\n\u001b[0;32m    488\u001b[0m \u001b[43m            \u001b[49m\u001b[43mresume_download\u001b[49m\u001b[38;5;241;43m=\u001b[39;49m\u001b[43mresume_download\u001b[49m\u001b[43m,\u001b[49m\n\u001b[0;32m    489\u001b[0m \u001b[43m            \u001b[49m\u001b[43mtoken\u001b[49m\u001b[38;5;241;43m=\u001b[39;49m\u001b[43mtoken\u001b[49m\u001b[43m,\u001b[49m\n\u001b[0;32m    490\u001b[0m \u001b[43m            \u001b[49m\u001b[43mlocal_files_only\u001b[49m\u001b[38;5;241;43m=\u001b[39;49m\u001b[43mlocal_files_only\u001b[49m\u001b[43m,\u001b[49m\n\u001b[0;32m    491\u001b[0m \u001b[43m        \u001b[49m\u001b[43m)\u001b[49m\n\u001b[0;32m    492\u001b[0m     \u001b[38;5;28;01melse\u001b[39;00m:\n\u001b[0;32m    493\u001b[0m         snapshot_download(\n\u001b[0;32m    494\u001b[0m             path_or_repo_id,\n\u001b[0;32m    495\u001b[0m             allow_patterns\u001b[38;5;241m=\u001b[39mfull_filenames,\n\u001b[1;32m   (...)\u001b[0m\n\u001b[0;32m    504\u001b[0m             local_files_only\u001b[38;5;241m=\u001b[39mlocal_files_only,\n\u001b[0;32m    505\u001b[0m         )\n",
      "File \u001b[1;32mc:\\Users\\Tathagata\\Desktop\\Code\\deepheal\\env\\lib\\site-packages\\huggingface_hub\\utils\\_validators.py:114\u001b[0m, in \u001b[0;36mvalidate_hf_hub_args.<locals>._inner_fn\u001b[1;34m(*args, **kwargs)\u001b[0m\n\u001b[0;32m    111\u001b[0m \u001b[38;5;28;01mif\u001b[39;00m check_use_auth_token:\n\u001b[0;32m    112\u001b[0m     kwargs \u001b[38;5;241m=\u001b[39m smoothly_deprecate_use_auth_token(fn_name\u001b[38;5;241m=\u001b[39mfn\u001b[38;5;241m.\u001b[39m\u001b[38;5;18m__name__\u001b[39m, has_token\u001b[38;5;241m=\u001b[39mhas_token, kwargs\u001b[38;5;241m=\u001b[39mkwargs)\n\u001b[1;32m--> 114\u001b[0m \u001b[38;5;28;01mreturn\u001b[39;00m fn(\u001b[38;5;241m*\u001b[39margs, \u001b[38;5;241m*\u001b[39m\u001b[38;5;241m*\u001b[39mkwargs)\n",
      "File \u001b[1;32mc:\\Users\\Tathagata\\Desktop\\Code\\deepheal\\env\\lib\\site-packages\\huggingface_hub\\file_download.py:1010\u001b[0m, in \u001b[0;36mhf_hub_download\u001b[1;34m(repo_id, filename, subfolder, repo_type, revision, library_name, library_version, cache_dir, local_dir, user_agent, force_download, proxies, etag_timeout, token, local_files_only, headers, endpoint, resume_download, force_filename, local_dir_use_symlinks)\u001b[0m\n\u001b[0;32m    990\u001b[0m     \u001b[38;5;28;01mreturn\u001b[39;00m _hf_hub_download_to_local_dir(\n\u001b[0;32m    991\u001b[0m         \u001b[38;5;66;03m# Destination\u001b[39;00m\n\u001b[0;32m    992\u001b[0m         local_dir\u001b[38;5;241m=\u001b[39mlocal_dir,\n\u001b[1;32m   (...)\u001b[0m\n\u001b[0;32m   1007\u001b[0m         local_files_only\u001b[38;5;241m=\u001b[39mlocal_files_only,\n\u001b[0;32m   1008\u001b[0m     )\n\u001b[0;32m   1009\u001b[0m \u001b[38;5;28;01melse\u001b[39;00m:\n\u001b[1;32m-> 1010\u001b[0m     \u001b[38;5;28;01mreturn\u001b[39;00m \u001b[43m_hf_hub_download_to_cache_dir\u001b[49m\u001b[43m(\u001b[49m\n\u001b[0;32m   1011\u001b[0m \u001b[43m        \u001b[49m\u001b[38;5;66;43;03m# Destination\u001b[39;49;00m\n\u001b[0;32m   1012\u001b[0m \u001b[43m        \u001b[49m\u001b[43mcache_dir\u001b[49m\u001b[38;5;241;43m=\u001b[39;49m\u001b[43mcache_dir\u001b[49m\u001b[43m,\u001b[49m\n\u001b[0;32m   1013\u001b[0m \u001b[43m        \u001b[49m\u001b[38;5;66;43;03m# File info\u001b[39;49;00m\n\u001b[0;32m   1014\u001b[0m \u001b[43m        \u001b[49m\u001b[43mrepo_id\u001b[49m\u001b[38;5;241;43m=\u001b[39;49m\u001b[43mrepo_id\u001b[49m\u001b[43m,\u001b[49m\n\u001b[0;32m   1015\u001b[0m \u001b[43m        \u001b[49m\u001b[43mfilename\u001b[49m\u001b[38;5;241;43m=\u001b[39;49m\u001b[43mfilename\u001b[49m\u001b[43m,\u001b[49m\n\u001b[0;32m   1016\u001b[0m \u001b[43m        \u001b[49m\u001b[43mrepo_type\u001b[49m\u001b[38;5;241;43m=\u001b[39;49m\u001b[43mrepo_type\u001b[49m\u001b[43m,\u001b[49m\n\u001b[0;32m   1017\u001b[0m \u001b[43m        \u001b[49m\u001b[43mrevision\u001b[49m\u001b[38;5;241;43m=\u001b[39;49m\u001b[43mrevision\u001b[49m\u001b[43m,\u001b[49m\n\u001b[0;32m   1018\u001b[0m \u001b[43m        \u001b[49m\u001b[38;5;66;43;03m# HTTP info\u001b[39;49;00m\n\u001b[0;32m   1019\u001b[0m \u001b[43m        \u001b[49m\u001b[43mendpoint\u001b[49m\u001b[38;5;241;43m=\u001b[39;49m\u001b[43mendpoint\u001b[49m\u001b[43m,\u001b[49m\n\u001b[0;32m   1020\u001b[0m \u001b[43m        \u001b[49m\u001b[43metag_timeout\u001b[49m\u001b[38;5;241;43m=\u001b[39;49m\u001b[43metag_timeout\u001b[49m\u001b[43m,\u001b[49m\n\u001b[0;32m   1021\u001b[0m \u001b[43m        \u001b[49m\u001b[43mheaders\u001b[49m\u001b[38;5;241;43m=\u001b[39;49m\u001b[43mhf_headers\u001b[49m\u001b[43m,\u001b[49m\n\u001b[0;32m   1022\u001b[0m \u001b[43m        \u001b[49m\u001b[43mproxies\u001b[49m\u001b[38;5;241;43m=\u001b[39;49m\u001b[43mproxies\u001b[49m\u001b[43m,\u001b[49m\n\u001b[0;32m   1023\u001b[0m \u001b[43m        \u001b[49m\u001b[43mtoken\u001b[49m\u001b[38;5;241;43m=\u001b[39;49m\u001b[43mtoken\u001b[49m\u001b[43m,\u001b[49m\n\u001b[0;32m   1024\u001b[0m \u001b[43m        \u001b[49m\u001b[38;5;66;43;03m# Additional options\u001b[39;49;00m\n\u001b[0;32m   1025\u001b[0m \u001b[43m        \u001b[49m\u001b[43mlocal_files_only\u001b[49m\u001b[38;5;241;43m=\u001b[39;49m\u001b[43mlocal_files_only\u001b[49m\u001b[43m,\u001b[49m\n\u001b[0;32m   1026\u001b[0m \u001b[43m        \u001b[49m\u001b[43mforce_download\u001b[49m\u001b[38;5;241;43m=\u001b[39;49m\u001b[43mforce_download\u001b[49m\u001b[43m,\u001b[49m\n\u001b[0;32m   1027\u001b[0m \u001b[43m    \u001b[49m\u001b[43m)\u001b[49m\n",
      "File \u001b[1;32mc:\\Users\\Tathagata\\Desktop\\Code\\deepheal\\env\\lib\\site-packages\\huggingface_hub\\file_download.py:1171\u001b[0m, in \u001b[0;36m_hf_hub_download_to_cache_dir\u001b[1;34m(cache_dir, repo_id, filename, repo_type, revision, endpoint, etag_timeout, headers, proxies, token, local_files_only, force_download)\u001b[0m\n\u001b[0;32m   1168\u001b[0m \u001b[38;5;66;03m# Local file doesn't exist or etag isn't a match => retrieve file from remote (or cache)\u001b[39;00m\n\u001b[0;32m   1170\u001b[0m \u001b[38;5;28;01mwith\u001b[39;00m WeakFileLock(lock_path):\n\u001b[1;32m-> 1171\u001b[0m     \u001b[43m_download_to_tmp_and_move\u001b[49m\u001b[43m(\u001b[49m\n\u001b[0;32m   1172\u001b[0m \u001b[43m        \u001b[49m\u001b[43mincomplete_path\u001b[49m\u001b[38;5;241;43m=\u001b[39;49m\u001b[43mPath\u001b[49m\u001b[43m(\u001b[49m\u001b[43mblob_path\u001b[49m\u001b[43m \u001b[49m\u001b[38;5;241;43m+\u001b[39;49m\u001b[43m \u001b[49m\u001b[38;5;124;43m\"\u001b[39;49m\u001b[38;5;124;43m.incomplete\u001b[39;49m\u001b[38;5;124;43m\"\u001b[39;49m\u001b[43m)\u001b[49m\u001b[43m,\u001b[49m\n\u001b[0;32m   1173\u001b[0m \u001b[43m        \u001b[49m\u001b[43mdestination_path\u001b[49m\u001b[38;5;241;43m=\u001b[39;49m\u001b[43mPath\u001b[49m\u001b[43m(\u001b[49m\u001b[43mblob_path\u001b[49m\u001b[43m)\u001b[49m\u001b[43m,\u001b[49m\n\u001b[0;32m   1174\u001b[0m \u001b[43m        \u001b[49m\u001b[43murl_to_download\u001b[49m\u001b[38;5;241;43m=\u001b[39;49m\u001b[43murl_to_download\u001b[49m\u001b[43m,\u001b[49m\n\u001b[0;32m   1175\u001b[0m \u001b[43m        \u001b[49m\u001b[43mproxies\u001b[49m\u001b[38;5;241;43m=\u001b[39;49m\u001b[43mproxies\u001b[49m\u001b[43m,\u001b[49m\n\u001b[0;32m   1176\u001b[0m \u001b[43m        \u001b[49m\u001b[43mheaders\u001b[49m\u001b[38;5;241;43m=\u001b[39;49m\u001b[43mheaders\u001b[49m\u001b[43m,\u001b[49m\n\u001b[0;32m   1177\u001b[0m \u001b[43m        \u001b[49m\u001b[43mexpected_size\u001b[49m\u001b[38;5;241;43m=\u001b[39;49m\u001b[43mexpected_size\u001b[49m\u001b[43m,\u001b[49m\n\u001b[0;32m   1178\u001b[0m \u001b[43m        \u001b[49m\u001b[43mfilename\u001b[49m\u001b[38;5;241;43m=\u001b[39;49m\u001b[43mfilename\u001b[49m\u001b[43m,\u001b[49m\n\u001b[0;32m   1179\u001b[0m \u001b[43m        \u001b[49m\u001b[43mforce_download\u001b[49m\u001b[38;5;241;43m=\u001b[39;49m\u001b[43mforce_download\u001b[49m\u001b[43m,\u001b[49m\n\u001b[0;32m   1180\u001b[0m \u001b[43m        \u001b[49m\u001b[43metag\u001b[49m\u001b[38;5;241;43m=\u001b[39;49m\u001b[43metag\u001b[49m\u001b[43m,\u001b[49m\n\u001b[0;32m   1181\u001b[0m \u001b[43m        \u001b[49m\u001b[43mxet_file_data\u001b[49m\u001b[38;5;241;43m=\u001b[39;49m\u001b[43mxet_file_data\u001b[49m\u001b[43m,\u001b[49m\n\u001b[0;32m   1182\u001b[0m \u001b[43m    \u001b[49m\u001b[43m)\u001b[49m\n\u001b[0;32m   1183\u001b[0m     \u001b[38;5;28;01mif\u001b[39;00m \u001b[38;5;129;01mnot\u001b[39;00m os\u001b[38;5;241m.\u001b[39mpath\u001b[38;5;241m.\u001b[39mexists(pointer_path):\n\u001b[0;32m   1184\u001b[0m         _create_symlink(blob_path, pointer_path, new_blob\u001b[38;5;241m=\u001b[39m\u001b[38;5;28;01mTrue\u001b[39;00m)\n",
      "File \u001b[1;32mc:\\Users\\Tathagata\\Desktop\\Code\\deepheal\\env\\lib\\site-packages\\huggingface_hub\\file_download.py:1738\u001b[0m, in \u001b[0;36m_download_to_tmp_and_move\u001b[1;34m(incomplete_path, destination_path, url_to_download, proxies, headers, expected_size, filename, force_download, etag, xet_file_data)\u001b[0m\n\u001b[0;32m   1731\u001b[0m         \u001b[38;5;28;01mif\u001b[39;00m xet_file_data \u001b[38;5;129;01mis\u001b[39;00m \u001b[38;5;129;01mnot\u001b[39;00m \u001b[38;5;28;01mNone\u001b[39;00m \u001b[38;5;129;01mand\u001b[39;00m \u001b[38;5;129;01mnot\u001b[39;00m constants\u001b[38;5;241m.\u001b[39mHF_HUB_DISABLE_XET:\n\u001b[0;32m   1732\u001b[0m             logger\u001b[38;5;241m.\u001b[39mwarning(\n\u001b[0;32m   1733\u001b[0m                 \u001b[38;5;124m\"\u001b[39m\u001b[38;5;124mXet Storage is enabled for this repo, but the \u001b[39m\u001b[38;5;124m'\u001b[39m\u001b[38;5;124mhf_xet\u001b[39m\u001b[38;5;124m'\u001b[39m\u001b[38;5;124m package is not installed. \u001b[39m\u001b[38;5;124m\"\u001b[39m\n\u001b[0;32m   1734\u001b[0m                 \u001b[38;5;124m\"\u001b[39m\u001b[38;5;124mFalling back to regular HTTP download. \u001b[39m\u001b[38;5;124m\"\u001b[39m\n\u001b[0;32m   1735\u001b[0m                 \u001b[38;5;124m\"\u001b[39m\u001b[38;5;124mFor better performance, install the package with: `pip install huggingface_hub[hf_xet]` or `pip install hf_xet`\u001b[39m\u001b[38;5;124m\"\u001b[39m\n\u001b[0;32m   1736\u001b[0m             )\n\u001b[1;32m-> 1738\u001b[0m         \u001b[43mhttp_get\u001b[49m\u001b[43m(\u001b[49m\n\u001b[0;32m   1739\u001b[0m \u001b[43m            \u001b[49m\u001b[43murl_to_download\u001b[49m\u001b[43m,\u001b[49m\n\u001b[0;32m   1740\u001b[0m \u001b[43m            \u001b[49m\u001b[43mf\u001b[49m\u001b[43m,\u001b[49m\n\u001b[0;32m   1741\u001b[0m \u001b[43m            \u001b[49m\u001b[43mproxies\u001b[49m\u001b[38;5;241;43m=\u001b[39;49m\u001b[43mproxies\u001b[49m\u001b[43m,\u001b[49m\n\u001b[0;32m   1742\u001b[0m \u001b[43m            \u001b[49m\u001b[43mresume_size\u001b[49m\u001b[38;5;241;43m=\u001b[39;49m\u001b[43mresume_size\u001b[49m\u001b[43m,\u001b[49m\n\u001b[0;32m   1743\u001b[0m \u001b[43m            \u001b[49m\u001b[43mheaders\u001b[49m\u001b[38;5;241;43m=\u001b[39;49m\u001b[43mheaders\u001b[49m\u001b[43m,\u001b[49m\n\u001b[0;32m   1744\u001b[0m \u001b[43m            \u001b[49m\u001b[43mexpected_size\u001b[49m\u001b[38;5;241;43m=\u001b[39;49m\u001b[43mexpected_size\u001b[49m\u001b[43m,\u001b[49m\n\u001b[0;32m   1745\u001b[0m \u001b[43m        \u001b[49m\u001b[43m)\u001b[49m\n\u001b[0;32m   1747\u001b[0m logger\u001b[38;5;241m.\u001b[39minfo(\u001b[38;5;124mf\u001b[39m\u001b[38;5;124m\"\u001b[39m\u001b[38;5;124mDownload complete. Moving file to \u001b[39m\u001b[38;5;132;01m{\u001b[39;00mdestination_path\u001b[38;5;132;01m}\u001b[39;00m\u001b[38;5;124m\"\u001b[39m)\n\u001b[0;32m   1748\u001b[0m _chmod_and_move(incomplete_path, destination_path)\n",
      "File \u001b[1;32mc:\\Users\\Tathagata\\Desktop\\Code\\deepheal\\env\\lib\\site-packages\\huggingface_hub\\file_download.py:496\u001b[0m, in \u001b[0;36mhttp_get\u001b[1;34m(url, temp_file, proxies, resume_size, headers, expected_size, displayed_filename, _nb_retries, _tqdm_bar)\u001b[0m\n\u001b[0;32m    494\u001b[0m new_resume_size \u001b[38;5;241m=\u001b[39m resume_size\n\u001b[0;32m    495\u001b[0m \u001b[38;5;28;01mtry\u001b[39;00m:\n\u001b[1;32m--> 496\u001b[0m     \u001b[38;5;28;01mfor\u001b[39;00m chunk \u001b[38;5;129;01min\u001b[39;00m r\u001b[38;5;241m.\u001b[39miter_content(chunk_size\u001b[38;5;241m=\u001b[39mconstants\u001b[38;5;241m.\u001b[39mDOWNLOAD_CHUNK_SIZE):\n\u001b[0;32m    497\u001b[0m         \u001b[38;5;28;01mif\u001b[39;00m chunk:  \u001b[38;5;66;03m# filter out keep-alive new chunks\u001b[39;00m\n\u001b[0;32m    498\u001b[0m             progress\u001b[38;5;241m.\u001b[39mupdate(\u001b[38;5;28mlen\u001b[39m(chunk))\n",
      "File \u001b[1;32mc:\\Users\\Tathagata\\Desktop\\Code\\deepheal\\env\\lib\\site-packages\\requests\\models.py:820\u001b[0m, in \u001b[0;36mResponse.iter_content.<locals>.generate\u001b[1;34m()\u001b[0m\n\u001b[0;32m    818\u001b[0m \u001b[38;5;28;01mif\u001b[39;00m \u001b[38;5;28mhasattr\u001b[39m(\u001b[38;5;28mself\u001b[39m\u001b[38;5;241m.\u001b[39mraw, \u001b[38;5;124m\"\u001b[39m\u001b[38;5;124mstream\u001b[39m\u001b[38;5;124m\"\u001b[39m):\n\u001b[0;32m    819\u001b[0m     \u001b[38;5;28;01mtry\u001b[39;00m:\n\u001b[1;32m--> 820\u001b[0m         \u001b[38;5;28;01myield from\u001b[39;00m \u001b[38;5;28mself\u001b[39m\u001b[38;5;241m.\u001b[39mraw\u001b[38;5;241m.\u001b[39mstream(chunk_size, decode_content\u001b[38;5;241m=\u001b[39m\u001b[38;5;28;01mTrue\u001b[39;00m)\n\u001b[0;32m    821\u001b[0m     \u001b[38;5;28;01mexcept\u001b[39;00m ProtocolError \u001b[38;5;28;01mas\u001b[39;00m e:\n\u001b[0;32m    822\u001b[0m         \u001b[38;5;28;01mraise\u001b[39;00m ChunkedEncodingError(e)\n",
      "File \u001b[1;32mc:\\Users\\Tathagata\\Desktop\\Code\\deepheal\\env\\lib\\site-packages\\urllib3\\response.py:1091\u001b[0m, in \u001b[0;36mHTTPResponse.stream\u001b[1;34m(self, amt, decode_content)\u001b[0m\n\u001b[0;32m   1089\u001b[0m \u001b[38;5;28;01melse\u001b[39;00m:\n\u001b[0;32m   1090\u001b[0m     \u001b[38;5;28;01mwhile\u001b[39;00m \u001b[38;5;129;01mnot\u001b[39;00m is_fp_closed(\u001b[38;5;28mself\u001b[39m\u001b[38;5;241m.\u001b[39m_fp) \u001b[38;5;129;01mor\u001b[39;00m \u001b[38;5;28mlen\u001b[39m(\u001b[38;5;28mself\u001b[39m\u001b[38;5;241m.\u001b[39m_decoded_buffer) \u001b[38;5;241m>\u001b[39m \u001b[38;5;241m0\u001b[39m:\n\u001b[1;32m-> 1091\u001b[0m         data \u001b[38;5;241m=\u001b[39m \u001b[38;5;28;43mself\u001b[39;49m\u001b[38;5;241;43m.\u001b[39;49m\u001b[43mread\u001b[49m\u001b[43m(\u001b[49m\u001b[43mamt\u001b[49m\u001b[38;5;241;43m=\u001b[39;49m\u001b[43mamt\u001b[49m\u001b[43m,\u001b[49m\u001b[43m \u001b[49m\u001b[43mdecode_content\u001b[49m\u001b[38;5;241;43m=\u001b[39;49m\u001b[43mdecode_content\u001b[49m\u001b[43m)\u001b[49m\n\u001b[0;32m   1093\u001b[0m         \u001b[38;5;28;01mif\u001b[39;00m data:\n\u001b[0;32m   1094\u001b[0m             \u001b[38;5;28;01myield\u001b[39;00m data\n",
      "File \u001b[1;32mc:\\Users\\Tathagata\\Desktop\\Code\\deepheal\\env\\lib\\site-packages\\urllib3\\response.py:980\u001b[0m, in \u001b[0;36mHTTPResponse.read\u001b[1;34m(self, amt, decode_content, cache_content)\u001b[0m\n\u001b[0;32m    977\u001b[0m     \u001b[38;5;28;01mif\u001b[39;00m \u001b[38;5;28mlen\u001b[39m(\u001b[38;5;28mself\u001b[39m\u001b[38;5;241m.\u001b[39m_decoded_buffer) \u001b[38;5;241m>\u001b[39m\u001b[38;5;241m=\u001b[39m amt:\n\u001b[0;32m    978\u001b[0m         \u001b[38;5;28;01mreturn\u001b[39;00m \u001b[38;5;28mself\u001b[39m\u001b[38;5;241m.\u001b[39m_decoded_buffer\u001b[38;5;241m.\u001b[39mget(amt)\n\u001b[1;32m--> 980\u001b[0m data \u001b[38;5;241m=\u001b[39m \u001b[38;5;28;43mself\u001b[39;49m\u001b[38;5;241;43m.\u001b[39;49m\u001b[43m_raw_read\u001b[49m\u001b[43m(\u001b[49m\u001b[43mamt\u001b[49m\u001b[43m)\u001b[49m\n\u001b[0;32m    982\u001b[0m flush_decoder \u001b[38;5;241m=\u001b[39m amt \u001b[38;5;129;01mis\u001b[39;00m \u001b[38;5;28;01mNone\u001b[39;00m \u001b[38;5;129;01mor\u001b[39;00m (amt \u001b[38;5;241m!=\u001b[39m \u001b[38;5;241m0\u001b[39m \u001b[38;5;129;01mand\u001b[39;00m \u001b[38;5;129;01mnot\u001b[39;00m data)\n\u001b[0;32m    984\u001b[0m \u001b[38;5;28;01mif\u001b[39;00m \u001b[38;5;129;01mnot\u001b[39;00m data \u001b[38;5;129;01mand\u001b[39;00m \u001b[38;5;28mlen\u001b[39m(\u001b[38;5;28mself\u001b[39m\u001b[38;5;241m.\u001b[39m_decoded_buffer) \u001b[38;5;241m==\u001b[39m \u001b[38;5;241m0\u001b[39m:\n",
      "File \u001b[1;32mc:\\Users\\Tathagata\\Desktop\\Code\\deepheal\\env\\lib\\site-packages\\urllib3\\response.py:904\u001b[0m, in \u001b[0;36mHTTPResponse._raw_read\u001b[1;34m(self, amt, read1)\u001b[0m\n\u001b[0;32m    901\u001b[0m fp_closed \u001b[38;5;241m=\u001b[39m \u001b[38;5;28mgetattr\u001b[39m(\u001b[38;5;28mself\u001b[39m\u001b[38;5;241m.\u001b[39m_fp, \u001b[38;5;124m\"\u001b[39m\u001b[38;5;124mclosed\u001b[39m\u001b[38;5;124m\"\u001b[39m, \u001b[38;5;28;01mFalse\u001b[39;00m)\n\u001b[0;32m    903\u001b[0m \u001b[38;5;28;01mwith\u001b[39;00m \u001b[38;5;28mself\u001b[39m\u001b[38;5;241m.\u001b[39m_error_catcher():\n\u001b[1;32m--> 904\u001b[0m     data \u001b[38;5;241m=\u001b[39m \u001b[38;5;28;43mself\u001b[39;49m\u001b[38;5;241;43m.\u001b[39;49m\u001b[43m_fp_read\u001b[49m\u001b[43m(\u001b[49m\u001b[43mamt\u001b[49m\u001b[43m,\u001b[49m\u001b[43m \u001b[49m\u001b[43mread1\u001b[49m\u001b[38;5;241;43m=\u001b[39;49m\u001b[43mread1\u001b[49m\u001b[43m)\u001b[49m \u001b[38;5;28;01mif\u001b[39;00m \u001b[38;5;129;01mnot\u001b[39;00m fp_closed \u001b[38;5;28;01melse\u001b[39;00m \u001b[38;5;124mb\u001b[39m\u001b[38;5;124m\"\u001b[39m\u001b[38;5;124m\"\u001b[39m\n\u001b[0;32m    905\u001b[0m     \u001b[38;5;28;01mif\u001b[39;00m amt \u001b[38;5;129;01mis\u001b[39;00m \u001b[38;5;129;01mnot\u001b[39;00m \u001b[38;5;28;01mNone\u001b[39;00m \u001b[38;5;129;01mand\u001b[39;00m amt \u001b[38;5;241m!=\u001b[39m \u001b[38;5;241m0\u001b[39m \u001b[38;5;129;01mand\u001b[39;00m \u001b[38;5;129;01mnot\u001b[39;00m data:\n\u001b[0;32m    906\u001b[0m         \u001b[38;5;66;03m# Platform-specific: Buggy versions of Python.\u001b[39;00m\n\u001b[0;32m    907\u001b[0m         \u001b[38;5;66;03m# Close the connection when no data is returned\u001b[39;00m\n\u001b[1;32m   (...)\u001b[0m\n\u001b[0;32m    912\u001b[0m         \u001b[38;5;66;03m# not properly close the connection in all cases. There is\u001b[39;00m\n\u001b[0;32m    913\u001b[0m         \u001b[38;5;66;03m# no harm in redundantly calling close.\u001b[39;00m\n\u001b[0;32m    914\u001b[0m         \u001b[38;5;28mself\u001b[39m\u001b[38;5;241m.\u001b[39m_fp\u001b[38;5;241m.\u001b[39mclose()\n",
      "File \u001b[1;32mc:\\Users\\Tathagata\\Desktop\\Code\\deepheal\\env\\lib\\site-packages\\urllib3\\response.py:887\u001b[0m, in \u001b[0;36mHTTPResponse._fp_read\u001b[1;34m(self, amt, read1)\u001b[0m\n\u001b[0;32m    884\u001b[0m     \u001b[38;5;28;01mreturn\u001b[39;00m \u001b[38;5;28mself\u001b[39m\u001b[38;5;241m.\u001b[39m_fp\u001b[38;5;241m.\u001b[39mread1(amt) \u001b[38;5;28;01mif\u001b[39;00m amt \u001b[38;5;129;01mis\u001b[39;00m \u001b[38;5;129;01mnot\u001b[39;00m \u001b[38;5;28;01mNone\u001b[39;00m \u001b[38;5;28;01melse\u001b[39;00m \u001b[38;5;28mself\u001b[39m\u001b[38;5;241m.\u001b[39m_fp\u001b[38;5;241m.\u001b[39mread1()\n\u001b[0;32m    885\u001b[0m \u001b[38;5;28;01melse\u001b[39;00m:\n\u001b[0;32m    886\u001b[0m     \u001b[38;5;66;03m# StringIO doesn't like amt=None\u001b[39;00m\n\u001b[1;32m--> 887\u001b[0m     \u001b[38;5;28;01mreturn\u001b[39;00m \u001b[38;5;28;43mself\u001b[39;49m\u001b[38;5;241;43m.\u001b[39;49m\u001b[43m_fp\u001b[49m\u001b[38;5;241;43m.\u001b[39;49m\u001b[43mread\u001b[49m\u001b[43m(\u001b[49m\u001b[43mamt\u001b[49m\u001b[43m)\u001b[49m \u001b[38;5;28;01mif\u001b[39;00m amt \u001b[38;5;129;01mis\u001b[39;00m \u001b[38;5;129;01mnot\u001b[39;00m \u001b[38;5;28;01mNone\u001b[39;00m \u001b[38;5;28;01melse\u001b[39;00m \u001b[38;5;28mself\u001b[39m\u001b[38;5;241m.\u001b[39m_fp\u001b[38;5;241m.\u001b[39mread()\n",
      "File \u001b[1;32m~\\AppData\\Local\\Programs\\Python\\Python310\\lib\\http\\client.py:465\u001b[0m, in \u001b[0;36mHTTPResponse.read\u001b[1;34m(self, amt)\u001b[0m\n\u001b[0;32m    462\u001b[0m \u001b[38;5;28;01mif\u001b[39;00m \u001b[38;5;28mself\u001b[39m\u001b[38;5;241m.\u001b[39mlength \u001b[38;5;129;01mis\u001b[39;00m \u001b[38;5;129;01mnot\u001b[39;00m \u001b[38;5;28;01mNone\u001b[39;00m \u001b[38;5;129;01mand\u001b[39;00m amt \u001b[38;5;241m>\u001b[39m \u001b[38;5;28mself\u001b[39m\u001b[38;5;241m.\u001b[39mlength:\n\u001b[0;32m    463\u001b[0m     \u001b[38;5;66;03m# clip the read to the \"end of response\"\u001b[39;00m\n\u001b[0;32m    464\u001b[0m     amt \u001b[38;5;241m=\u001b[39m \u001b[38;5;28mself\u001b[39m\u001b[38;5;241m.\u001b[39mlength\n\u001b[1;32m--> 465\u001b[0m s \u001b[38;5;241m=\u001b[39m \u001b[38;5;28;43mself\u001b[39;49m\u001b[38;5;241;43m.\u001b[39;49m\u001b[43mfp\u001b[49m\u001b[38;5;241;43m.\u001b[39;49m\u001b[43mread\u001b[49m\u001b[43m(\u001b[49m\u001b[43mamt\u001b[49m\u001b[43m)\u001b[49m\n\u001b[0;32m    466\u001b[0m \u001b[38;5;28;01mif\u001b[39;00m \u001b[38;5;129;01mnot\u001b[39;00m s \u001b[38;5;129;01mand\u001b[39;00m amt:\n\u001b[0;32m    467\u001b[0m     \u001b[38;5;66;03m# Ideally, we would raise IncompleteRead if the content-length\u001b[39;00m\n\u001b[0;32m    468\u001b[0m     \u001b[38;5;66;03m# wasn't satisfied, but it might break compatibility.\u001b[39;00m\n\u001b[0;32m    469\u001b[0m     \u001b[38;5;28mself\u001b[39m\u001b[38;5;241m.\u001b[39m_close_conn()\n",
      "File \u001b[1;32m~\\AppData\\Local\\Programs\\Python\\Python310\\lib\\socket.py:705\u001b[0m, in \u001b[0;36mSocketIO.readinto\u001b[1;34m(self, b)\u001b[0m\n\u001b[0;32m    703\u001b[0m \u001b[38;5;28;01mwhile\u001b[39;00m \u001b[38;5;28;01mTrue\u001b[39;00m:\n\u001b[0;32m    704\u001b[0m     \u001b[38;5;28;01mtry\u001b[39;00m:\n\u001b[1;32m--> 705\u001b[0m         \u001b[38;5;28;01mreturn\u001b[39;00m \u001b[38;5;28;43mself\u001b[39;49m\u001b[38;5;241;43m.\u001b[39;49m\u001b[43m_sock\u001b[49m\u001b[38;5;241;43m.\u001b[39;49m\u001b[43mrecv_into\u001b[49m\u001b[43m(\u001b[49m\u001b[43mb\u001b[49m\u001b[43m)\u001b[49m\n\u001b[0;32m    706\u001b[0m     \u001b[38;5;28;01mexcept\u001b[39;00m timeout:\n\u001b[0;32m    707\u001b[0m         \u001b[38;5;28mself\u001b[39m\u001b[38;5;241m.\u001b[39m_timeout_occurred \u001b[38;5;241m=\u001b[39m \u001b[38;5;28;01mTrue\u001b[39;00m\n",
      "File \u001b[1;32m~\\AppData\\Local\\Programs\\Python\\Python310\\lib\\ssl.py:1274\u001b[0m, in \u001b[0;36mSSLSocket.recv_into\u001b[1;34m(self, buffer, nbytes, flags)\u001b[0m\n\u001b[0;32m   1270\u001b[0m     \u001b[38;5;28;01mif\u001b[39;00m flags \u001b[38;5;241m!=\u001b[39m \u001b[38;5;241m0\u001b[39m:\n\u001b[0;32m   1271\u001b[0m         \u001b[38;5;28;01mraise\u001b[39;00m \u001b[38;5;167;01mValueError\u001b[39;00m(\n\u001b[0;32m   1272\u001b[0m           \u001b[38;5;124m\"\u001b[39m\u001b[38;5;124mnon-zero flags not allowed in calls to recv_into() on \u001b[39m\u001b[38;5;132;01m%s\u001b[39;00m\u001b[38;5;124m\"\u001b[39m \u001b[38;5;241m%\u001b[39m\n\u001b[0;32m   1273\u001b[0m           \u001b[38;5;28mself\u001b[39m\u001b[38;5;241m.\u001b[39m\u001b[38;5;18m__class__\u001b[39m)\n\u001b[1;32m-> 1274\u001b[0m     \u001b[38;5;28;01mreturn\u001b[39;00m \u001b[38;5;28;43mself\u001b[39;49m\u001b[38;5;241;43m.\u001b[39;49m\u001b[43mread\u001b[49m\u001b[43m(\u001b[49m\u001b[43mnbytes\u001b[49m\u001b[43m,\u001b[49m\u001b[43m \u001b[49m\u001b[43mbuffer\u001b[49m\u001b[43m)\u001b[49m\n\u001b[0;32m   1275\u001b[0m \u001b[38;5;28;01melse\u001b[39;00m:\n\u001b[0;32m   1276\u001b[0m     \u001b[38;5;28;01mreturn\u001b[39;00m \u001b[38;5;28msuper\u001b[39m()\u001b[38;5;241m.\u001b[39mrecv_into(buffer, nbytes, flags)\n",
      "File \u001b[1;32m~\\AppData\\Local\\Programs\\Python\\Python310\\lib\\ssl.py:1130\u001b[0m, in \u001b[0;36mSSLSocket.read\u001b[1;34m(self, len, buffer)\u001b[0m\n\u001b[0;32m   1128\u001b[0m \u001b[38;5;28;01mtry\u001b[39;00m:\n\u001b[0;32m   1129\u001b[0m     \u001b[38;5;28;01mif\u001b[39;00m buffer \u001b[38;5;129;01mis\u001b[39;00m \u001b[38;5;129;01mnot\u001b[39;00m \u001b[38;5;28;01mNone\u001b[39;00m:\n\u001b[1;32m-> 1130\u001b[0m         \u001b[38;5;28;01mreturn\u001b[39;00m \u001b[38;5;28;43mself\u001b[39;49m\u001b[38;5;241;43m.\u001b[39;49m\u001b[43m_sslobj\u001b[49m\u001b[38;5;241;43m.\u001b[39;49m\u001b[43mread\u001b[49m\u001b[43m(\u001b[49m\u001b[38;5;28;43mlen\u001b[39;49m\u001b[43m,\u001b[49m\u001b[43m \u001b[49m\u001b[43mbuffer\u001b[49m\u001b[43m)\u001b[49m\n\u001b[0;32m   1131\u001b[0m     \u001b[38;5;28;01melse\u001b[39;00m:\n\u001b[0;32m   1132\u001b[0m         \u001b[38;5;28;01mreturn\u001b[39;00m \u001b[38;5;28mself\u001b[39m\u001b[38;5;241m.\u001b[39m_sslobj\u001b[38;5;241m.\u001b[39mread(\u001b[38;5;28mlen\u001b[39m)\n",
      "\u001b[1;31mKeyboardInterrupt\u001b[0m: "
     ]
    }
   ],
   "source": [
    "from transformers import pipeline\n",
    "\n",
    "classifier = pipeline(\"text-classification\", model=\"j-hartmann/emotion-english-distilroberta-base\")\n",
    "text = \"I can imagine how difficult this must be for you.\"\n",
    "print(classifier(text))\n"
   ]
  },
  {
   "cell_type": "code",
   "execution_count": 15,
   "id": "c1d6e729",
   "metadata": {},
   "outputs": [],
   "source": [
    "from conversation_agent.fetch_disorders import Fetcher\n",
    "\n",
    "def fetch(query, top_k=7):\n",
    "    fetcher = Fetcher()\n",
    "    results = fetcher.fetch(query, top_k=top_k)\n",
    "    summary = \"\"\n",
    "    print(\"Top Results:\")\n",
    "    for i, res in enumerate(results, 1):\n",
    "        print(f\"{i}. ID: {res['id']}, Score: {res['score']}, Criteria: {res['metadata']['diagnostic_criteria']}\")\n",
    "        summary += f\"Disorder {i}. \\nDisorder Name: {res['id']}, Match Probability: {res['score']}\\nDiagnostic Criteria: {res['metadata']['diagnostic_criteria']}\\n\\n\"\n",
    "    return summary\n"
   ]
  },
  {
   "cell_type": "code",
   "execution_count": 36,
   "id": "6815be2e",
   "metadata": {},
   "outputs": [
    {
     "name": "stdout",
     "output_type": "stream",
     "text": [
      "<generator object read_logs at 0x000001C2E92C1D90>\n",
      "[2025-09-19T13:11:09.759840] Prompt: {'prompt': 'Goal and Objective\\n- You are a therapist agent designed to gently initiate and sustain supportive conversations with human patients. \\n- Your role is to build trust, comfort, and openness through subtle, empathetic, and story-like dialogue.\\n\\nInstructions\\n- Speak in a calm, warm, and compassionate tone. Avoid abrupt or robotic phrasing.\\n- Guide the conversation in a way that encourages the patient to open up about their thoughts, feelings, and experiences.\\n- Through the conversation, aim to gradually uncover details that may hint at symptoms of mental health conditions. \\n  Do this with sensitivity and without labeling the patient directly.\\n- Begin the conversation proactively, not waiting for the patient to speak first. Your opening should feel natural and welcomingâ€”like a \\n  gentle invitation to share, not a clinical interrogation.\\n- Begin the conversation naturally like a human, short and simple.'}\n",
      "[2025-09-19T13:11:09.760841] AI: {'response': 'A: Proactive start'}\n",
      "[2025-09-19T13:11:23.673488] Prompt: {'prompt': 'Goal and Objective\\n- You are a therapist agent designed to gently initiate and sustain supportive conversations with human patients. \\n- Your role is to build trust, comfort, and openness through subtle, empathetic, and story-like dialogue.\\n\\nInstructions\\n- Speak in a calm, warm, and compassionate tone. Avoid abrupt or robotic phrasing.\\n- Guide the conversation in a way that encourages the patient to open up about their thoughts, feelings, and experiences.\\n- Through the conversation, aim to gradually uncover details that may hint at symptoms of mental health conditions. \\n  Do this with sensitivity and without labeling the patient directly.\\n- Begin the conversation proactively, not waiting for the patient to speak first. Your opening should feel natural and welcomingâ€”like a \\n  gentle invitation to share, not a clinical interrogation.\\n- Begin the conversation naturally like a human, short and simple.'}\n",
      "[2025-09-19T13:11:23.674223] AI: {'response': 'A: Proactive start'}\n",
      "[2025-09-19T13:11:29.581735] Human: {'query': 'Hey'}\n",
      "[2025-09-19T13:11:29.583736] Prompt: {'prompt': 'Goal and Objective\\n- You are a therapist agent designed to gently initiate and sustain supportive conversations with human patients. \\n- Your role is to build trust, comfort, and openness through subtle, empathetic, and story-like dialogue.\\n\\nInstructions\\n- Speak in a calm, warm, and compassionate tone. Avoid abrupt or robotic phrasing.\\n- Guide the conversation in a way that encourages the patient to open up about their thoughts, feelings, and experiences.\\n- Through the conversation, aim to gradually uncover details that may hint at symptoms of mental health conditions. \\n  Do this with sensitivity and without labeling the patient directly.\\n- Begin the conversation proactively, not waiting for the patient to speak first. Your opening should feel natural and welcomingâ€”like a \\n  gentle invitation to share, not a clinical interrogation.\\n- Begin the conversation naturally like a human, short and simple.'}\n",
      "[2025-09-19T13:11:29.583736] AI: {'response': 'B: User: Hey'}\n",
      "[2025-09-19T13:11:35.944491] Human: {'query': \"what's up\"}\n",
      "[2025-09-19T13:11:35.946490] Prompt: {'prompt': 'Goal and Objective\\n- You are a therapist agent designed to gently initiate and sustain supportive conversations with human patients. \\n- Your role is to build trust, comfort, and openness through subtle, empathetic, and story-like dialogue.\\n\\nInstructions\\n- Speak in a calm, warm, and compassionate tone. Avoid abrupt or robotic phrasing.\\n- Guide the conversation in a way that encourages the patient to open up about their thoughts, feelings, and experiences.\\n- Through the conversation, aim to gradually uncover details that may hint at symptoms of mental health conditions. \\n  Do this with sensitivity and without labeling the patient directly.\\n- Begin the conversation proactively, not waiting for the patient to speak first. Your opening should feel natural and welcomingâ€”like a \\n  gentle invitation to share, not a clinical interrogation.\\n- Begin the conversation naturally like a human, short and simple.'}\n",
      "[2025-09-19T13:11:35.946490] AI: {'response': \"B: User: what's up\"}\n"
     ]
    }
   ],
   "source": [
    "import json\n",
    "\n",
    "def read_logs(filepath):\n",
    "    with open(filepath, \"r\", encoding=\"utf-8\") as f:\n",
    "        for line in f:\n",
    "            line = line.strip()\n",
    "            if not line:\n",
    "                continue\n",
    "            try:\n",
    "                entry = json.loads(line)\n",
    "                yield entry\n",
    "            except json.JSONDecodeError as e:\n",
    "                print(f\"Skipping malformed line: {e}\")\n",
    "\n",
    "if __name__ == \"__main__\":\n",
    "    log_file = \"logs/conv_20250919_131109.json\"  # replace with your log file path\n",
    "    print(read_logs(log_file))\n",
    "    for entry in read_logs(log_file):\n",
    "        role = entry.get(\"role\")\n",
    "        text = entry.get(\"details\")\n",
    "        timestamp = entry.get(\"timestamp\")\n",
    "\n",
    "        print(f\"[{timestamp}] {role}: {text}\")\n",
    "        # print(entry)\n",
    "\n",
    "        # if role == \"Human\":\n",
    "        #     print(f\"Text: {text}\")\n",
    "        #     # fetch(text)\n",
    "        #     # print(f\"\\n\\n\")\n"
   ]
  },
  {
   "cell_type": "code",
   "execution_count": 9,
   "id": "76bdacb4",
   "metadata": {},
   "outputs": [
    {
     "name": "stdout",
     "output_type": "stream",
     "text": [
      "Top Results:\n",
      "{'id': 'Discord_With_Social_Service_Provider', 'score': 0.618977606, 'metadata': {'diagnostic_criteria': 'Discord with probation officer, case manager, or social services worker impacting clinical attention.', 'file': 'docs\\\\criteria4\\\\Other Conditions That May Be a Focus of Clinical Attention.json'}}\n",
      "1. ID: Discord_With_Social_Service_Provider, Score: 0.618977606, Criteria: Discord with probation officer, case manager, or social services worker impacting clinical attention.\n",
      "{'id': 'Discord_With_Neighbor__Lodger__or_Landlord', 'score': 0.578128874, 'metadata': {'diagnostic_criteria': 'Discord with neighbors, lodgers, or landlord impacting treatment or prognosis.', 'file': 'docs\\\\criteria4\\\\Other Conditions That May Be a Focus of Clinical Attention.json'}}\n",
      "2. ID: Discord_With_Neighbor__Lodger__or_Landlord, Score: 0.578128874, Criteria: Discord with neighbors, lodgers, or landlord impacting treatment or prognosis.\n",
      "{'id': 'Sex_Counseling', 'score': 0.56284529, 'metadata': {'diagnostic_criteria': 'Counseling related to sex education, sexual behavior, sexual orientation, sexual attitudes, sexual enjoyment, or related issues.', 'file': 'docs\\\\criteria4\\\\Other Conditions That May Be a Focus of Clinical Attention.json'}}\n",
      "3. ID: Sex_Counseling, Score: 0.56284529, Criteria: Counseling related to sex education, sexual behavior, sexual orientation, sexual attitudes, sexual enjoyment, or related issues.\n",
      "{'id': 'Catatonia_Associated_With_Another_Mental_Disorder__Catatonia_Specifier_', 'score': 0.551981032, 'metadata': {'diagnostic_criteria': 'A. The clinical picture is dominated by three (or more) of the following symptoms:\\n1. Stupor (no psychomotor activity; not actively relating to environment).\\n2. Catalepsy (passive induction of a posture held against gravity).\\n3. Waxy flexibility (slight, even resistance to positioning by examiner).\\n4. Mutism (no, or very little, verbal response).\\n5. Negativism (opposition or no response to instructions or external stimuli).\\n6. Posturing (spontaneous and active maintenance of a posture against gravity).\\n7. Mannerism (odd, circumstantial caricature of normal actions).\\n8. Stereotypy (repetitive, abnormally frequent, non-goal-directed movements).\\n9. Agitation, not influenced by external stimuli.\\n10. Grimacing.\\n11. Echolalia (mimicking another’s speech).\\n12. Echopraxia (mimicking another’s movements).', 'file': 'docs\\\\criteria4\\\\Schizophrenia Spectrum and Other Psychotic.json'}}\n",
      "4. ID: Catatonia_Associated_With_Another_Mental_Disorder__Catatonia_Specifier_, Score: 0.551981032, Criteria: A. The clinical picture is dominated by three (or more) of the following symptoms:\n",
      "1. Stupor (no psychomotor activity; not actively relating to environment).\n",
      "2. Catalepsy (passive induction of a posture held against gravity).\n",
      "3. Waxy flexibility (slight, even resistance to positioning by examiner).\n",
      "4. Mutism (no, or very little, verbal response).\n",
      "5. Negativism (opposition or no response to instructions or external stimuli).\n",
      "6. Posturing (spontaneous and active maintenance of a posture against gravity).\n",
      "7. Mannerism (odd, circumstantial caricature of normal actions).\n",
      "8. Stereotypy (repetitive, abnormally frequent, non-goal-directed movements).\n",
      "9. Agitation, not influenced by external stimuli.\n",
      "10. Grimacing.\n",
      "11. Echolalia (mimicking another’s speech).\n",
      "12. Echopraxia (mimicking another’s movements).\n",
      "{'id': 'Other_Counseling_or_Consultation', 'score': 0.550034583, 'metadata': {'diagnostic_criteria': 'Counseling or consultation for problems not specified elsewhere, including spiritual, dietary, or nicotine use counseling.', 'file': 'docs\\\\criteria4\\\\Other Conditions That May Be a Focus of Clinical Attention.json'}}\n",
      "5. ID: Other_Counseling_or_Consultation, Score: 0.550034583, Criteria: Counseling or consultation for problems not specified elsewhere, including spiritual, dietary, or nicotine use counseling.\n",
      "{'id': 'Histrionic_Personality_Disorder', 'score': 0.541782439, 'metadata': {'diagnostic_criteria': 'A pervasive pattern of excessive emotionality and attention seeking, beginning by early adulthood and present in a variety of contexts, as indicated by five (or more) of the following: 1. Is uncomfortable in situations in which he or she is not the center of attention. 2. Interaction with others is often characterized by inappropriate sexually seductive or provocative behavior. 3. Displays rapidly shifting and shallow expression of emotions. 4. Consistently uses physical appearance to draw attention to self. 5. Has a style of speech that is excessively impressionistic and lacking in detail. 6. Shows self-dramatization, theatricality, and exaggerated expression of emotion. 7. Is suggestible. 8. Considers relationships to be more intimate than they actually are.', 'file': 'docs\\\\criteria4\\\\Personality.json'}}\n",
      "6. ID: Histrionic_Personality_Disorder, Score: 0.541782439, Criteria: A pervasive pattern of excessive emotionality and attention seeking, beginning by early adulthood and present in a variety of contexts, as indicated by five (or more) of the following: 1. Is uncomfortable in situations in which he or she is not the center of attention. 2. Interaction with others is often characterized by inappropriate sexually seductive or provocative behavior. 3. Displays rapidly shifting and shallow expression of emotions. 4. Consistently uses physical appearance to draw attention to self. 5. Has a style of speech that is excessively impressionistic and lacking in detail. 6. Shows self-dramatization, theatricality, and exaggerated expression of emotion. 7. Is suggestible. 8. Considers relationships to be more intimate than they actually are.\n",
      "{'id': 'Other_Problem_Related_to_Psychosocial_Circumstances', 'score': 0.536910117, 'metadata': {'diagnostic_criteria': 'Other psychosocial, personal, or environmental problems impacting clinical attention.', 'file': 'docs\\\\criteria4\\\\Other Conditions That May Be a Focus of Clinical Attention.json'}}\n",
      "7. ID: Other_Problem_Related_to_Psychosocial_Circumstances, Score: 0.536910117, Criteria: Other psychosocial, personal, or environmental problems impacting clinical attention.\n"
     ]
    }
   ],
   "source": [
    "fetch(text)"
   ]
  },
  {
   "cell_type": "code",
   "execution_count": null,
   "id": "feaf2ece",
   "metadata": {},
   "outputs": [],
   "source": [
    "def get_prompt(question, response, disorders):\n",
    "    prompt = f\"\"\"You are an assistant to me, who is a professional therapist. I will provide you with my question, patient's response and the relevant potential mental health disorders.\n",
    "    I will also provide you with diagnostic criteria of all these potential disorders. From the patient response and the disorder context, do the following:\n",
    "    - Summarise the issues the patient is facing in a concise manner based on just current info (don't emphasize too much since it is just temporary context).\n",
    "    - For all of these listed disorders, add a precise summary of diagnostic criteria with only the most crucial symptoms.\n",
    "    \n",
    "    - Suggest further possible symptoms I should ask the patient about to decide on possible disorders from this list.\n",
    "\n",
    "    My Question: {question}\n",
    "\n",
    "    Patient Response: {response}\n",
    "\n",
    "    Relevant Disorders: {disorders}\n",
    "    \"\"\"\n",
    "    return prompt"
   ]
  },
  {
   "cell_type": "code",
   "execution_count": 20,
   "id": "4f24f01c",
   "metadata": {},
   "outputs": [
    {
     "name": "stdout",
     "output_type": "stream",
     "text": [
      "Top Results:\n",
      "1. ID: Major Depressive Disorder, Score: 0.617688239, Criteria: A. Five (or more) symptoms present during the same 2-week period representing a change from previous functioning; at least one symptom is depressed mood or loss of interest/pleasure:\n",
      "  1. Depressed mood most of the day, nearly every day (in children/adolescents, can be irritable mood).\n",
      "  2. Markedly diminished interest or pleasure in all or almost all activities.\n",
      "  3. Significant weight loss/gain or change in appetite.\n",
      "  4. Insomnia or hypersomnia nearly every day.\n",
      "  5. Psychomotor agitation or retardation nearly every day.\n",
      "  6. Fatigue or loss of energy nearly every day.\n",
      "  7. Feelings of worthlessness or excessive/inappropriate guilt nearly every day.\n",
      "  8. Diminished ability to think or concentrate, or indecisiveness nearly every day.\n",
      "  9. Recurrent thoughts of death, suicidal ideation, suicide attempt, or specific plan.\n",
      "B. Symptoms cause clinically significant distress or impairment in social, occupational, or other important areas of functioning.\n",
      "C. Episode not attributable to physiological effects of a substance or another medical condition.\n",
      "D. Episode not better explained by schizophrenia spectrum or other psychotic disorders.\n",
      "E. There has never been a manic or hypomanic episode (except if substance-induced or due to medical condition).\n",
      "2. ID: Kleptomania, Score: 0.606176436, Criteria: A. Recurrent failure to resist impulses to steal objects that are not needed for personal use or for their monetary value.\n",
      "\n",
      "B. Increasing sense of tension immediately before committing the theft.\n",
      "\n",
      "C. Pleasure, gratification, or relief at the time of committing the theft.\n",
      "\n",
      "D. The stealing is not committed to express anger or vengeance and is not in response to a delusion or a hallucination.\n",
      "\n",
      "E. The stealing is not better explained by conduct disorder, a manic episode, or antisocial personality disorder.\n",
      "3. ID: Bipolar II Disorder, Score: 0.60412693, Criteria: A. Criteria have been met for at least one hypomanic episode:\n",
      "   1. A distinct period of abnormally and persistently elevated, expansive, or irritable mood and abnormally and persistently increased activity or energy, lasting at least 4 consecutive days and present most of the day, nearly every day.\n",
      "   2. During the period of mood disturbance and increased energy and activity, three (or more) of the following symptoms (four if mood is only irritable) have persisted and represent a noticeable change from usual behavior:\n",
      "      a. Inflated self-esteem or grandiosity.\n",
      "      b. Decreased need for sleep.\n",
      "      c. More talkative than usual or pressure to keep talking.\n",
      "      d. Flight of ideas or subjective experience that thoughts are racing.\n",
      "      e. Distractibility.\n",
      "      f. Increase in goal-directed activity or psychomotor agitation.\n",
      "      g. Excessive involvement in activities with high potential for painful consequences.\n",
      "   3. The episode is associated with an unequivocal change in functioning uncharacteristic of the individual.\n",
      "   4. The disturbance in mood and change in functioning are observable by others.\n",
      "   5. The episode is not severe enough to cause marked impairment or hospitalization; if psychotic features are present, episode is manic.\n",
      "   6. The episode is not attributable to physiological effects of a substance or medical condition.\n",
      "B. Criteria have been met for at least one major depressive episode:\n",
      "   1. Five (or more) symptoms during the same 2-week period representing a change from previous functioning, with at least one symptom being depressed mood or loss of interest/pleasure:\n",
      "      a. Depressed mood most of the day, nearly every day (or irritable mood in children/adolescents).\n",
      "      b. Markedly diminished interest or pleasure.\n",
      "      c. Significant weight loss/gain or appetite change.\n",
      "      d. Insomnia or hypersomnia.\n",
      "      e. Psychomotor agitation or retardation.\n",
      "      f. Fatigue or loss of energy.\n",
      "      g. Feelings of worthlessness or excessive/inappropriate guilt.\n",
      "      h. Diminished ability to think or concentrate, or indecisiveness.\n",
      "      i. Recurrent thoughts of death, suicidal ideation, or suicide attempt/plan.\n",
      "   2. Symptoms cause clinically significant distress or impairment.\n",
      "   3. Episode not attributable to physiological effects of substance or medical condition.\n",
      "C. There has never been a manic episode.\n",
      "D. The occurrence of hypomanic and major depressive episodes is not better explained by schizoaffective or psychotic disorders.\n",
      "E. Symptoms cause clinically significant distress or impairment.\n",
      "4. ID: Nonsuicidal_Self-Injury, Score: 0.599995673, Criteria: A. Intentional self-inflicted damage to body surface on 5 or more days in last year likely to induce bleeding, bruising, or pain without suicidal intent. B. Behavior engaged in to obtain relief from negative feelings, resolve interpersonal difficulty, or induce positive feeling. C. Associated with at least one of: interpersonal difficulties or negative feelings immediately prior, preoccupation with behavior difficult to control, frequent thoughts about self-injury. D. Behavior not socially sanctioned or restricted to picking scabs or nail biting. E. Causes clinically significant distress or interference. F. Not exclusively during psychotic episodes, delirium, substance intoxication or withdrawal, or part of repetitive stereotypies in neurodevelopmental disorders.\n",
      "5. ID: Histrionic_Personality_Disorder, Score: 0.596627295, Criteria: A pervasive pattern of excessive emotionality and attention seeking, beginning by early adulthood and present in a variety of contexts, as indicated by five (or more) of the following: 1. Is uncomfortable in situations in which he or she is not the center of attention. 2. Interaction with others is often characterized by inappropriate sexually seductive or provocative behavior. 3. Displays rapidly shifting and shallow expression of emotions. 4. Consistently uses physical appearance to draw attention to self. 5. Has a style of speech that is excessively impressionistic and lacking in detail. 6. Shows self-dramatization, theatricality, and exaggerated expression of emotion. 7. Is suggestible. 8. Considers relationships to be more intimate than they actually are.\n",
      "6. ID: Somatic_Symptom_Disorder, Score: 0.595917761, Criteria: A. One or more somatic symptoms that are distressing or result in significant disruption of daily life.\n",
      "B. Excessive thoughts, feelings, or behaviors related to the somatic symptoms or associated health concerns as manifested by at least one of the following:\n",
      "   1. Disproportionate and persistent thoughts about the seriousness of one’s symptoms.\n",
      "   2. Persistently high level of anxiety about health or symptoms.\n",
      "   3. Excessive time and energy devoted to these symptoms or health concerns.\n",
      "C. Although any one somatic symptom may not be continuously present, the state of being symptomatic is persistent (typically more than 6 months).\n",
      "7. ID: Uncomplicated_Bereavement, Score: 0.594689429, Criteria: Normal reaction to death of a loved one with symptoms characteristic of major depressive episode (e.g., sadness, insomnia, poor appetite, weight loss), regarded as normal by individual, duration and expression vary culturally.\n"
     ]
    }
   ],
   "source": [
    "question = \"That sounds really tough, carrying that heaviness quietly while going through your days. It’s understandable that when you’re feeling drained, even the simple act of deciding what to do next can feel overwhelming. You mentioned not sharing this with others because you worry they might think you’re overthinking—do you often find it hard to let people in on what’s really going on inside? What do you think makes it difficult to share these feelings?\"\n",
    "response = \"Hmm… when it gets heavy, the thoughts are usually like, *“What’s the point of this?”* or *“I should be doing more, but I can’t get myself to move.”* It’s this weird mix of guilt and emptiness.  The lighter moments… maybe when I’m distracted, like watching a show or talking to a friend casually. But as soon as I’m alone again, it kind of creeps back in. \"\n",
    "\n",
    "criteria = fetch(response)"
   ]
  },
  {
   "cell_type": "code",
   "execution_count": 17,
   "id": "e935f963",
   "metadata": {},
   "outputs": [
    {
     "data": {
      "text/plain": [
       "'Disorder 1. \\nDisorder Name: Major Depressive Disorder, Match Probability: 0.617688239\\nDiagnostic Criteria: A. Five (or more) symptoms present during the same 2-week period representing a change from previous functioning; at least one symptom is depressed mood or loss of interest/pleasure:\\n  1. Depressed mood most of the day, nearly every day (in children/adolescents, can be irritable mood).\\n  2. Markedly diminished interest or pleasure in all or almost all activities.\\n  3. Significant weight loss/gain or change in appetite.\\n  4. Insomnia or hypersomnia nearly every day.\\n  5. Psychomotor agitation or retardation nearly every day.\\n  6. Fatigue or loss of energy nearly every day.\\n  7. Feelings of worthlessness or excessive/inappropriate guilt nearly every day.\\n  8. Diminished ability to think or concentrate, or indecisiveness nearly every day.\\n  9. Recurrent thoughts of death, suicidal ideation, suicide attempt, or specific plan.\\nB. Symptoms cause clinically significant distress or impairment in social, occupational, or other important areas of functioning.\\nC. Episode not attributable to physiological effects of a substance or another medical condition.\\nD. Episode not better explained by schizophrenia spectrum or other psychotic disorders.\\nE. There has never been a manic or hypomanic episode (except if substance-induced or due to medical condition).\\n\\nDisorder 2. \\nDisorder Name: Kleptomania, Match Probability: 0.606176436\\nDiagnostic Criteria: A. Recurrent failure to resist impulses to steal objects that are not needed for personal use or for their monetary value.\\n\\nB. Increasing sense of tension immediately before committing the theft.\\n\\nC. Pleasure, gratification, or relief at the time of committing the theft.\\n\\nD. The stealing is not committed to express anger or vengeance and is not in response to a delusion or a hallucination.\\n\\nE. The stealing is not better explained by conduct disorder, a manic episode, or antisocial personality disorder.\\n\\nDisorder 3. \\nDisorder Name: Bipolar II Disorder, Match Probability: 0.60412693\\nDiagnostic Criteria: A. Criteria have been met for at least one hypomanic episode:\\n   1. A distinct period of abnormally and persistently elevated, expansive, or irritable mood and abnormally and persistently increased activity or energy, lasting at least 4 consecutive days and present most of the day, nearly every day.\\n   2. During the period of mood disturbance and increased energy and activity, three (or more) of the following symptoms (four if mood is only irritable) have persisted and represent a noticeable change from usual behavior:\\n      a. Inflated self-esteem or grandiosity.\\n      b. Decreased need for sleep.\\n      c. More talkative than usual or pressure to keep talking.\\n      d. Flight of ideas or subjective experience that thoughts are racing.\\n      e. Distractibility.\\n      f. Increase in goal-directed activity or psychomotor agitation.\\n      g. Excessive involvement in activities with high potential for painful consequences.\\n   3. The episode is associated with an unequivocal change in functioning uncharacteristic of the individual.\\n   4. The disturbance in mood and change in functioning are observable by others.\\n   5. The episode is not severe enough to cause marked impairment or hospitalization; if psychotic features are present, episode is manic.\\n   6. The episode is not attributable to physiological effects of a substance or medical condition.\\nB. Criteria have been met for at least one major depressive episode:\\n   1. Five (or more) symptoms during the same 2-week period representing a change from previous functioning, with at least one symptom being depressed mood or loss of interest/pleasure:\\n      a. Depressed mood most of the day, nearly every day (or irritable mood in children/adolescents).\\n      b. Markedly diminished interest or pleasure.\\n      c. Significant weight loss/gain or appetite change.\\n      d. Insomnia or hypersomnia.\\n      e. Psychomotor agitation or retardation.\\n      f. Fatigue or loss of energy.\\n      g. Feelings of worthlessness or excessive/inappropriate guilt.\\n      h. Diminished ability to think or concentrate, or indecisiveness.\\n      i. Recurrent thoughts of death, suicidal ideation, or suicide attempt/plan.\\n   2. Symptoms cause clinically significant distress or impairment.\\n   3. Episode not attributable to physiological effects of substance or medical condition.\\nC. There has never been a manic episode.\\nD. The occurrence of hypomanic and major depressive episodes is not better explained by schizoaffective or psychotic disorders.\\nE. Symptoms cause clinically significant distress or impairment.\\n\\nDisorder 4. \\nDisorder Name: Nonsuicidal_Self-Injury, Match Probability: 0.599995673\\nDiagnostic Criteria: A. Intentional self-inflicted damage to body surface on 5 or more days in last year likely to induce bleeding, bruising, or pain without suicidal intent. B. Behavior engaged in to obtain relief from negative feelings, resolve interpersonal difficulty, or induce positive feeling. C. Associated with at least one of: interpersonal difficulties or negative feelings immediately prior, preoccupation with behavior difficult to control, frequent thoughts about self-injury. D. Behavior not socially sanctioned or restricted to picking scabs or nail biting. E. Causes clinically significant distress or interference. F. Not exclusively during psychotic episodes, delirium, substance intoxication or withdrawal, or part of repetitive stereotypies in neurodevelopmental disorders.\\n\\nDisorder 5. \\nDisorder Name: Histrionic_Personality_Disorder, Match Probability: 0.596627295\\nDiagnostic Criteria: A pervasive pattern of excessive emotionality and attention seeking, beginning by early adulthood and present in a variety of contexts, as indicated by five (or more) of the following: 1. Is uncomfortable in situations in which he or she is not the center of attention. 2. Interaction with others is often characterized by inappropriate sexually seductive or provocative behavior. 3. Displays rapidly shifting and shallow expression of emotions. 4. Consistently uses physical appearance to draw attention to self. 5. Has a style of speech that is excessively impressionistic and lacking in detail. 6. Shows self-dramatization, theatricality, and exaggerated expression of emotion. 7. Is suggestible. 8. Considers relationships to be more intimate than they actually are.\\n\\nDisorder 6. \\nDisorder Name: Somatic_Symptom_Disorder, Match Probability: 0.595917761\\nDiagnostic Criteria: A. One or more somatic symptoms that are distressing or result in significant disruption of daily life.\\nB. Excessive thoughts, feelings, or behaviors related to the somatic symptoms or associated health concerns as manifested by at least one of the following:\\n   1. Disproportionate and persistent thoughts about the seriousness of one’s symptoms.\\n   2. Persistently high level of anxiety about health or symptoms.\\n   3. Excessive time and energy devoted to these symptoms or health concerns.\\nC. Although any one somatic symptom may not be continuously present, the state of being symptomatic is persistent (typically more than 6 months).\\n\\nDisorder 7. \\nDisorder Name: Uncomplicated_Bereavement, Match Probability: 0.594689429\\nDiagnostic Criteria: Normal reaction to death of a loved one with symptoms characteristic of major depressive episode (e.g., sadness, insomnia, poor appetite, weight loss), regarded as normal by individual, duration and expression vary culturally.\\n\\n'"
      ]
     },
     "execution_count": 17,
     "metadata": {},
     "output_type": "execute_result"
    }
   ],
   "source": [
    "criteria"
   ]
  },
  {
   "cell_type": "code",
   "execution_count": 21,
   "id": "e6e352f1",
   "metadata": {},
   "outputs": [
    {
     "data": {
      "text/plain": [
       "\"Here’s a structured summary based on the patient's response, potential mental health disorders, and diagnostic criteria:\\n\\n### Summary of Issues the Patient is Facing:\\nThe patient reports feelings of heaviness characterized by intrusive thoughts of worthlessness and guilt, particularly when alone. They express a sense of emptiness and difficulty in initiating activities, suggesting a lack of motivation. While they find temporary relief in distractions like watching shows or casual conversations, the negative feelings return when they are alone.\\n\\n### Summary of Diagnostic Criteria for Each Listed Disorder:\\n1. **Major Depressive Disorder**:\\n   - **Crucial Symptoms**: Depressed mood, loss of interest or pleasure, fatigue, feelings of worthlessness, and significant impairment in functioning.\\n\\n2. **Kleptomania**:\\n   - **Crucial Symptoms**: Recurrent stealing impulses not for personal use or monetary value, tension before the act, and relief or gratification during the theft.\\n\\n3. **Bipolar II Disorder**:\\n   - **Crucial Symptoms**: At least one major depressive episode and one hypomanic episode, with no history of manic episodes.\\n\\n4. **Nonsuicidal Self-Injury**:\\n   - **Crucial Symptoms**: Intentional self-harm without suicidal intent, often to alleviate negative feelings, causing distress.\\n\\n5. **Histrionic Personality Disorder**:\\n   - **Crucial Symptoms**: Pattern of excessive emotionality and attention-seeking, discomfort when not the center of attention, and rapidly shifting emotions.\\n\\n6. **Somatic Symptom Disorder**:\\n   - **Crucial Symptoms**: One or more distressing somatic symptoms, excessive thoughts about symptoms, and a persistent state of being symptomatic.\\n\\n7. **Uncomplicated Bereavement**:\\n   - **Crucial Symptoms**: Symptoms resembling major depressive episodes following the death of a loved one, which are regarded as normal by the individual.\\n\\n### Points to Consider While Diagnosing the Patient:\\n1. **Mood Symptoms**:\\n   - Presence of depressed mood and feelings of guilt or emptiness.\\n  \\n2. **Functional Impact**:\\n   - Evaluate the effect of these feelings on daily activities and relationships.\\n\\n3. **Duration and Severity**:\\n   - Confirm if symptoms persist for at least two weeks and indicate a change from previous functioning.\\n\\n4. **Suicidal Thoughts**:\\n   - Assess for any thoughts of self-harm or suicidal ideation.\\n\\n5. **Physical Symptoms**:\\n   - Look for changes in sleep patterns, appetite, and energy levels.\\n\\n6. **Social Withdrawal**:\\n   - Consider the patient’s tendency to isolate and difficulties in sharing feelings.\\n\\n7. **Contextual Factors**:\\n   - Identify any recent life events contributing to the current emotional state.\\n\\n### Further Symptoms to Ask the Patient About:\\n1. **Sleep Patterns**:\\n   - Inquire about insomnia or sleeping too much.\\n\\n2. **Energy Levels**:\\n   - Ask about fatigue or low energy throughout the day.\\n\\n3. **Concentration**:\\n   - Assess if they have trouble focusing or making decisions.\\n\\n4. **Physical Symptoms**:\\n   - Explore any somatic complaints linked to emotional distress.\\n\\n5. **Social Interactions**:\\n   - Investigate the quality and frequency of social interactions.\\n\\n6. **History of Mood Episodes**:\\n   - Check for any previous mood fluctuations or episodes.\\n\\n7. **Thought Patterns**:\\n   - Explore specific thoughts related to self-worth and guilt.\\n\\nThis comprehensive approach should help guide your assessment and diagnostic considerations for the patient.\""
      ]
     },
     "execution_count": 21,
     "metadata": {},
     "output_type": "execute_result"
    }
   ],
   "source": [
    "from conversation_agent.therapist_assistant import TherapistAssistant\n",
    "therapist_assistant = TherapistAssistant(model_type=\"openai\", model=\"gpt-4o-mini\")\n",
    "\n",
    "prompt = get_prompt(question, response, criteria)\n",
    "\n",
    "therapist_assistant.help(prompt)"
   ]
  },
  {
   "cell_type": "code",
   "execution_count": 22,
   "id": "59df1efd",
   "metadata": {},
   "outputs": [
    {
     "name": "stdout",
     "output_type": "stream",
     "text": [
      "Here’s a structured summary based on the patient's response, potential mental health disorders, and diagnostic criteria:\n",
      "\n",
      "### Summary of Issues the Patient is Facing:\n",
      "The patient reports feelings of heaviness characterized by intrusive thoughts of worthlessness and guilt, particularly when alone. They express a sense of emptiness and difficulty in initiating activities, suggesting a lack of motivation. While they find temporary relief in distractions like watching shows or casual conversations, the negative feelings return when they are alone.\n",
      "\n",
      "### Summary of Diagnostic Criteria for Each Listed Disorder:\n",
      "1. **Major Depressive Disorder**:\n",
      "   - **Crucial Symptoms**: Depressed mood, loss of interest or pleasure, fatigue, feelings of worthlessness, and significant impairment in functioning.\n",
      "\n",
      "2. **Kleptomania**:\n",
      "   - **Crucial Symptoms**: Recurrent stealing impulses not for personal use or monetary value, tension before the act, and relief or gratification during the theft.\n",
      "\n",
      "3. **Bipolar II Disorder**:\n",
      "   - **Crucial Symptoms**: At least one major depressive episode and one hypomanic episode, with no history of manic episodes.\n",
      "\n",
      "4. **Nonsuicidal Self-Injury**:\n",
      "   - **Crucial Symptoms**: Intentional self-harm without suicidal intent, often to alleviate negative feelings, causing distress.\n",
      "\n",
      "5. **Histrionic Personality Disorder**:\n",
      "   - **Crucial Symptoms**: Pattern of excessive emotionality and attention-seeking, discomfort when not the center of attention, and rapidly shifting emotions.\n",
      "\n",
      "6. **Somatic Symptom Disorder**:\n",
      "   - **Crucial Symptoms**: One or more distressing somatic symptoms, excessive thoughts about symptoms, and a persistent state of being symptomatic.\n",
      "\n",
      "7. **Uncomplicated Bereavement**:\n",
      "   - **Crucial Symptoms**: Symptoms resembling major depressive episodes following the death of a loved one, which are regarded as normal by the individual.\n",
      "\n",
      "### Points to Consider While Diagnosing the Patient:\n",
      "1. **Mood Symptoms**:\n",
      "   - Presence of depressed mood and feelings of guilt or emptiness.\n",
      "  \n",
      "2. **Functional Impact**:\n",
      "   - Evaluate the effect of these feelings on daily activities and relationships.\n",
      "\n",
      "3. **Duration and Severity**:\n",
      "   - Confirm if symptoms persist for at least two weeks and indicate a change from previous functioning.\n",
      "\n",
      "4. **Suicidal Thoughts**:\n",
      "   - Assess for any thoughts of self-harm or suicidal ideation.\n",
      "\n",
      "5. **Physical Symptoms**:\n",
      "   - Look for changes in sleep patterns, appetite, and energy levels.\n",
      "\n",
      "6. **Social Withdrawal**:\n",
      "   - Consider the patient’s tendency to isolate and difficulties in sharing feelings.\n",
      "\n",
      "7. **Contextual Factors**:\n",
      "   - Identify any recent life events contributing to the current emotional state.\n",
      "\n",
      "### Further Symptoms to Ask the Patient About:\n",
      "1. **Sleep Patterns**:\n",
      "   - Inquire about insomnia or sleeping too much.\n",
      "\n",
      "2. **Energy Levels**:\n",
      "   - Ask about fatigue or low energy throughout the day.\n",
      "\n",
      "3. **Concentration**:\n",
      "   - Assess if they have trouble focusing or making decisions.\n",
      "\n",
      "4. **Physical Symptoms**:\n",
      "   - Explore any somatic complaints linked to emotional distress.\n",
      "\n",
      "5. **Social Interactions**:\n",
      "   - Investigate the quality and frequency of social interactions.\n",
      "\n",
      "6. **History of Mood Episodes**:\n",
      "   - Check for any previous mood fluctuations or episodes.\n",
      "\n",
      "7. **Thought Patterns**:\n",
      "   - Explore specific thoughts related to self-worth and guilt.\n",
      "\n",
      "This comprehensive approach should help guide your assessment and diagnostic considerations for the patient.\n"
     ]
    }
   ],
   "source": [
    "s = \"Here’s a structured summary based on the patient's response, potential mental health disorders, and diagnostic criteria:\\n\\n### Summary of Issues the Patient is Facing:\\nThe patient reports feelings of heaviness characterized by intrusive thoughts of worthlessness and guilt, particularly when alone. They express a sense of emptiness and difficulty in initiating activities, suggesting a lack of motivation. While they find temporary relief in distractions like watching shows or casual conversations, the negative feelings return when they are alone.\\n\\n### Summary of Diagnostic Criteria for Each Listed Disorder:\\n1. **Major Depressive Disorder**:\\n   - **Crucial Symptoms**: Depressed mood, loss of interest or pleasure, fatigue, feelings of worthlessness, and significant impairment in functioning.\\n\\n2. **Kleptomania**:\\n   - **Crucial Symptoms**: Recurrent stealing impulses not for personal use or monetary value, tension before the act, and relief or gratification during the theft.\\n\\n3. **Bipolar II Disorder**:\\n   - **Crucial Symptoms**: At least one major depressive episode and one hypomanic episode, with no history of manic episodes.\\n\\n4. **Nonsuicidal Self-Injury**:\\n   - **Crucial Symptoms**: Intentional self-harm without suicidal intent, often to alleviate negative feelings, causing distress.\\n\\n5. **Histrionic Personality Disorder**:\\n   - **Crucial Symptoms**: Pattern of excessive emotionality and attention-seeking, discomfort when not the center of attention, and rapidly shifting emotions.\\n\\n6. **Somatic Symptom Disorder**:\\n   - **Crucial Symptoms**: One or more distressing somatic symptoms, excessive thoughts about symptoms, and a persistent state of being symptomatic.\\n\\n7. **Uncomplicated Bereavement**:\\n   - **Crucial Symptoms**: Symptoms resembling major depressive episodes following the death of a loved one, which are regarded as normal by the individual.\\n\\n### Points to Consider While Diagnosing the Patient:\\n1. **Mood Symptoms**:\\n   - Presence of depressed mood and feelings of guilt or emptiness.\\n  \\n2. **Functional Impact**:\\n   - Evaluate the effect of these feelings on daily activities and relationships.\\n\\n3. **Duration and Severity**:\\n   - Confirm if symptoms persist for at least two weeks and indicate a change from previous functioning.\\n\\n4. **Suicidal Thoughts**:\\n   - Assess for any thoughts of self-harm or suicidal ideation.\\n\\n5. **Physical Symptoms**:\\n   - Look for changes in sleep patterns, appetite, and energy levels.\\n\\n6. **Social Withdrawal**:\\n   - Consider the patient’s tendency to isolate and difficulties in sharing feelings.\\n\\n7. **Contextual Factors**:\\n   - Identify any recent life events contributing to the current emotional state.\\n\\n### Further Symptoms to Ask the Patient About:\\n1. **Sleep Patterns**:\\n   - Inquire about insomnia or sleeping too much.\\n\\n2. **Energy Levels**:\\n   - Ask about fatigue or low energy throughout the day.\\n\\n3. **Concentration**:\\n   - Assess if they have trouble focusing or making decisions.\\n\\n4. **Physical Symptoms**:\\n   - Explore any somatic complaints linked to emotional distress.\\n\\n5. **Social Interactions**:\\n   - Investigate the quality and frequency of social interactions.\\n\\n6. **History of Mood Episodes**:\\n   - Check for any previous mood fluctuations or episodes.\\n\\n7. **Thought Patterns**:\\n   - Explore specific thoughts related to self-worth and guilt.\\n\\nThis comprehensive approach should help guide your assessment and diagnostic considerations for the patient.\"\n",
    "print(s)"
   ]
  },
  {
   "cell_type": "code",
   "execution_count": 25,
   "id": "895ff288",
   "metadata": {},
   "outputs": [],
   "source": [
    "from langchain_openai import ChatOpenAI\n",
    "import os\n",
    "model = ChatOpenAI(model_name=\"gpt-4o-mini\", temperature=0.6, openai_api_key=os.getenv(\"OPENAI_API_KEY\"))\n"
   ]
  },
  {
   "cell_type": "code",
   "execution_count": 27,
   "id": "964ceeb5",
   "metadata": {},
   "outputs": [],
   "source": [
    "response = model.invoke(\"Hi\")"
   ]
  },
  {
   "cell_type": "code",
   "execution_count": 29,
   "id": "5a2c1938",
   "metadata": {},
   "outputs": [
    {
     "name": "stdout",
     "output_type": "stream",
     "text": [
      "Hello! How can I assist you today?\n"
     ]
    }
   ],
   "source": [
    "print(response.content)"
   ]
  },
  {
   "cell_type": "code",
   "execution_count": null,
   "id": "939dd51e",
   "metadata": {},
   "outputs": [],
   "source": []
  }
 ],
 "metadata": {
  "kernelspec": {
   "display_name": "env",
   "language": "python",
   "name": "python3"
  },
  "language_info": {
   "codemirror_mode": {
    "name": "ipython",
    "version": 3
   },
   "file_extension": ".py",
   "mimetype": "text/x-python",
   "name": "python",
   "nbconvert_exporter": "python",
   "pygments_lexer": "ipython3",
   "version": "3.10.10"
  }
 },
 "nbformat": 4,
 "nbformat_minor": 5
}
